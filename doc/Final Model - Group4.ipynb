{
 "cells": [
  {
   "cell_type": "markdown",
   "metadata": {},
   "source": [
    "### Importing required packages "
   ]
  },
  {
   "cell_type": "code",
   "execution_count": 1,
   "metadata": {},
   "outputs": [
    {
     "name": "stderr",
     "output_type": "stream",
     "text": [
      "Using TensorFlow backend.\n",
      "/Users/Qiqi/opt/anaconda3/lib/python3.7/site-packages/tensorflow/python/framework/dtypes.py:516: FutureWarning: Passing (type, 1) or '1type' as a synonym of type is deprecated; in a future version of numpy, it will be understood as (type, (1,)) / '(1,)type'.\n",
      "  _np_qint8 = np.dtype([(\"qint8\", np.int8, 1)])\n",
      "/Users/Qiqi/opt/anaconda3/lib/python3.7/site-packages/tensorflow/python/framework/dtypes.py:517: FutureWarning: Passing (type, 1) or '1type' as a synonym of type is deprecated; in a future version of numpy, it will be understood as (type, (1,)) / '(1,)type'.\n",
      "  _np_quint8 = np.dtype([(\"quint8\", np.uint8, 1)])\n",
      "/Users/Qiqi/opt/anaconda3/lib/python3.7/site-packages/tensorflow/python/framework/dtypes.py:518: FutureWarning: Passing (type, 1) or '1type' as a synonym of type is deprecated; in a future version of numpy, it will be understood as (type, (1,)) / '(1,)type'.\n",
      "  _np_qint16 = np.dtype([(\"qint16\", np.int16, 1)])\n",
      "/Users/Qiqi/opt/anaconda3/lib/python3.7/site-packages/tensorflow/python/framework/dtypes.py:519: FutureWarning: Passing (type, 1) or '1type' as a synonym of type is deprecated; in a future version of numpy, it will be understood as (type, (1,)) / '(1,)type'.\n",
      "  _np_quint16 = np.dtype([(\"quint16\", np.uint16, 1)])\n",
      "/Users/Qiqi/opt/anaconda3/lib/python3.7/site-packages/tensorflow/python/framework/dtypes.py:520: FutureWarning: Passing (type, 1) or '1type' as a synonym of type is deprecated; in a future version of numpy, it will be understood as (type, (1,)) / '(1,)type'.\n",
      "  _np_qint32 = np.dtype([(\"qint32\", np.int32, 1)])\n",
      "/Users/Qiqi/opt/anaconda3/lib/python3.7/site-packages/tensorflow/python/framework/dtypes.py:525: FutureWarning: Passing (type, 1) or '1type' as a synonym of type is deprecated; in a future version of numpy, it will be understood as (type, (1,)) / '(1,)type'.\n",
      "  np_resource = np.dtype([(\"resource\", np.ubyte, 1)])\n",
      "/Users/Qiqi/opt/anaconda3/lib/python3.7/site-packages/tensorboard/compat/tensorflow_stub/dtypes.py:541: FutureWarning: Passing (type, 1) or '1type' as a synonym of type is deprecated; in a future version of numpy, it will be understood as (type, (1,)) / '(1,)type'.\n",
      "  _np_qint8 = np.dtype([(\"qint8\", np.int8, 1)])\n",
      "/Users/Qiqi/opt/anaconda3/lib/python3.7/site-packages/tensorboard/compat/tensorflow_stub/dtypes.py:542: FutureWarning: Passing (type, 1) or '1type' as a synonym of type is deprecated; in a future version of numpy, it will be understood as (type, (1,)) / '(1,)type'.\n",
      "  _np_quint8 = np.dtype([(\"quint8\", np.uint8, 1)])\n",
      "/Users/Qiqi/opt/anaconda3/lib/python3.7/site-packages/tensorboard/compat/tensorflow_stub/dtypes.py:543: FutureWarning: Passing (type, 1) or '1type' as a synonym of type is deprecated; in a future version of numpy, it will be understood as (type, (1,)) / '(1,)type'.\n",
      "  _np_qint16 = np.dtype([(\"qint16\", np.int16, 1)])\n",
      "/Users/Qiqi/opt/anaconda3/lib/python3.7/site-packages/tensorboard/compat/tensorflow_stub/dtypes.py:544: FutureWarning: Passing (type, 1) or '1type' as a synonym of type is deprecated; in a future version of numpy, it will be understood as (type, (1,)) / '(1,)type'.\n",
      "  _np_quint16 = np.dtype([(\"quint16\", np.uint16, 1)])\n",
      "/Users/Qiqi/opt/anaconda3/lib/python3.7/site-packages/tensorboard/compat/tensorflow_stub/dtypes.py:545: FutureWarning: Passing (type, 1) or '1type' as a synonym of type is deprecated; in a future version of numpy, it will be understood as (type, (1,)) / '(1,)type'.\n",
      "  _np_qint32 = np.dtype([(\"qint32\", np.int32, 1)])\n",
      "/Users/Qiqi/opt/anaconda3/lib/python3.7/site-packages/tensorboard/compat/tensorflow_stub/dtypes.py:550: FutureWarning: Passing (type, 1) or '1type' as a synonym of type is deprecated; in a future version of numpy, it will be understood as (type, (1,)) / '(1,)type'.\n",
      "  np_resource = np.dtype([(\"resource\", np.ubyte, 1)])\n"
     ]
    }
   ],
   "source": [
    "import os,sys\n",
    "import pandas as pd\n",
    "from sklearn.model_selection import train_test_split\n",
    "import scipy.io\n",
    "import numpy as np \n",
    "from scipy.spatial.distance import pdist\n",
    "import time \n",
    "import math\n",
    "import xgboost as xgb\n",
    "from xgboost.sklearn import XGBClassifier\n",
    "from sklearn.metrics import accuracy_score\n",
    "from sklearn.model_selection import GridSearchCV\n",
    "import keras\n",
    "from keras.utils import to_categorical\n",
    "import matplotlib.pyplot as plt\n",
    "from tensorflow.keras.models import Sequential"
   ]
  },
  {
   "cell_type": "code",
   "execution_count": 2,
   "metadata": {},
   "outputs": [],
   "source": [
    "from keras.layers import Dense, Activation, Flatten, Input, Dropout\n",
    "from keras.layers import BatchNormalization\n",
    "from keras.models import Model\n",
    "from keras import initializers\n",
    "from keras.optimizers import Adam"
   ]
  },
  {
   "cell_type": "markdown",
   "metadata": {},
   "source": [
    "### loading data "
   ]
  },
  {
   "cell_type": "code",
   "execution_count": 3,
   "metadata": {},
   "outputs": [],
   "source": [
    "# change the root to your own path \n",
    "root = sys.path[0]\n",
    "train_dir =  os.path.join(root,  '../data/train_set')  \n",
    "train_image_dir =  os.path.join(train_dir, 'images')\n",
    "train_pt_dir =  os.path.join(train_dir, 'points' )\n",
    "train_label_path =  os.path.join(train_dir,  \"label.csv\") "
   ]
  },
  {
   "cell_type": "code",
   "execution_count": 4,
   "metadata": {},
   "outputs": [],
   "source": [
    "info = pd.read_csv(train_label_path)\n",
    "train_idx, test_idx = train_test_split(info['Index'], test_size=0.2, random_state=123)\n",
    "\n",
    "# read mat file and store coordinates in mat \n",
    "m = []\n",
    "for idx in info['Index']: \n",
    "    file = \"%04d.mat\"%(idx)\n",
    "    m.append( scipy.io.loadmat( os.path.join( train_pt_dir, file ) ))\n",
    "\n",
    "mat = [x[[i for i in x.keys() if not i in ['__header__', '__version__', '__globals__']][0]] for x in m]"
   ]
  },
  {
   "cell_type": "markdown",
   "metadata": {},
   "source": [
    "###  train test split"
   ]
  },
  {
   "cell_type": "code",
   "execution_count": 5,
   "metadata": {},
   "outputs": [],
   "source": [
    "train_idx, test_idx = train_test_split(info['Index'], test_size=0.2, random_state=123)"
   ]
  },
  {
   "cell_type": "code",
   "execution_count": 6,
   "metadata": {},
   "outputs": [],
   "source": [
    "train_mat = [ mat[i-1] for i in train_idx ] \n",
    "test_mat = [ mat[i-1] for i in test_idx ] "
   ]
  },
  {
   "cell_type": "code",
   "execution_count": 7,
   "metadata": {},
   "outputs": [],
   "source": [
    "train_labels = info.emotion_idx[train_idx-1]\n",
    "test_labels = info.emotion_idx[test_idx-1]"
   ]
  },
  {
   "cell_type": "code",
   "execution_count": 8,
   "metadata": {},
   "outputs": [],
   "source": [
    "train_label_cat = to_categorical(train_labels)\n",
    "train_label_cat= train_label_cat[:,1:]\n",
    "test_label_cat = to_categorical(test_labels)\n",
    "test_label_cat= test_label_cat[:,1:]"
   ]
  },
  {
   "cell_type": "markdown",
   "metadata": {},
   "source": [
    "### feature extraction  "
   ]
  },
  {
   "cell_type": "code",
   "execution_count": 9,
   "metadata": {},
   "outputs": [],
   "source": [
    "# method 1：  pairwise_dist_cal  \n",
    "#def pairwise_dist_cal(xy_cord):\n",
    "    #p_dist =[]\n",
    "    #for i in range(xy_cord.shape[0]):\n",
    "        #for j in range(i+1,xy_cord.shape[0]):\n",
    "               # p_dist.append( abs(round(xy_cord[i,0]) - round(xy_cord[j,0] )) )\n",
    "               # p_dist.append( abs(round(xy_cord[i,1]) - round(xy_cord[j,1] ) ) )\n",
    "    #return p_dist \n",
    "\n",
    "\n",
    "\n",
    "#### updated methods with selected fiducial points; this reduce 78 poins to 50  \n",
    "''' \n",
    "feature selection : 1. remove  points P64 - 70 and P72 - 78  \n",
    "                 2. remove P51,53,55,57,58,60, 61, 63\n",
    "                 3. calculate midpints between  upper and lower eyebrow lines and replace P20-22,P24-16 with midpoints               \n",
    "So there is in total 50 points left, which gives 50*49 pairwise distance \n",
    "'''\n",
    "\n",
    "def pairwise_dist_cal_updt(mt):\n",
    "    t0 = time.time()\n",
    "    p_dist_updt =np.zeros([len(mt),1225,2])\n",
    "    n = len(mt)\n",
    "    for k in range(n):\n",
    "        xy_cord = mt[k]\n",
    "\n",
    "        xy_cord_cpy  = xy_cord\n",
    "        \n",
    "        #  eye_brow midpoint \n",
    "        to_add_brl = (xy_cord_cpy[19:22]+ xy_cord_cpy[23:26])/2\n",
    "        to_add_brr = (xy_cord_cpy[27:30]+ xy_cord_cpy[31:34])/2\n",
    "\n",
    "        # index to remove \n",
    "        rm_idx = np.append(np.arange(63,70), np.arange(71,78))\n",
    "        rm_idx = np.append(rm_idx,np.arange(50,57,2) )\n",
    "        rm_idx = np.append(rm_idx, [57,59,60,62])\n",
    "        rm_idx = np.append(rm_idx, np.arange(19,22))\n",
    "        rm_idx = np.append(rm_idx, np.arange(23,26))\n",
    "        rm_idx = np.append(rm_idx, np.arange(27,30))\n",
    "        rm_idx = np.append(rm_idx, np.arange(31,34))\n",
    "        xy_cord = np.delete(xy_cord, rm_idx, axis = 0) \n",
    "        xy_cord = np.concatenate((xy_cord,to_add_brl,to_add_brr))\n",
    "        \n",
    "\n",
    "        dist_h = [] \n",
    "        dist_v = []\n",
    "        for i in range(xy_cord.shape[0]):\n",
    "            for j in range(i+1,xy_cord.shape[0]):\n",
    "                dist_h.append( abs(round(xy_cord[i,0]) - round(xy_cord[j,0] )) )\n",
    "                dist_v.append( abs(round(xy_cord[i,1]) - round(xy_cord[j,1] ) ) )\n",
    "        p_dist_updt[k,:,0]= dist_h\n",
    "        p_dist_updt[k,:,1]= dist_v\n",
    "    \n",
    "\n",
    "    print(\"feature constructions takes %s seconds\" % (time.time() - t0))\n",
    "    return p_dist_updt.reshape([n,2450])\n"
   ]
  },
  {
   "cell_type": "code",
   "execution_count": 10,
   "metadata": {
    "scrolled": true
   },
   "outputs": [
    {
     "name": "stdout",
     "output_type": "stream",
     "text": [
      "training: \n",
      "feature constructions takes 19.490326166152954 seconds\n"
     ]
    }
   ],
   "source": [
    "print(\"training: \")\n",
    "train_data = pairwise_dist_cal_updt(train_mat[0:])"
   ]
  },
  {
   "cell_type": "code",
   "execution_count": 11,
   "metadata": {},
   "outputs": [
    {
     "name": "stdout",
     "output_type": "stream",
     "text": [
      "testing: \n",
      "feature constructions takes 4.743052959442139 seconds\n"
     ]
    }
   ],
   "source": [
    "print(\"testing: \")\n",
    "test_data = pairwise_dist_cal_updt(test_mat[0:])"
   ]
  },
  {
   "cell_type": "markdown",
   "metadata": {},
   "source": [
    "### XGB"
   ]
  },
  {
   "cell_type": "code",
   "execution_count": 12,
   "metadata": {},
   "outputs": [],
   "source": [
    "from xgboost.sklearn import XGBClassifier"
   ]
  },
  {
   "cell_type": "code",
   "execution_count": 13,
   "metadata": {},
   "outputs": [],
   "source": [
    "train_labels_xgb = [ x  - 1 for x in train_labels ] \n",
    "test_labels_xgb = [ x  - 1 for x in test_labels ] "
   ]
  },
  {
   "cell_type": "code",
   "execution_count": 30,
   "metadata": {},
   "outputs": [
    {
     "name": "stdout",
     "output_type": "stream",
     "text": [
      "training  model takes 1156.417 seconds\n"
     ]
    }
   ],
   "source": [
    "xgb = XGBClassifier(\n",
    " learning_rate =0.1,\n",
    " n_estimators= 200,\n",
    " max_depth=5,\n",
    " min_child_weight=1,\n",
    " gamma=0,\n",
    " subsample=0.8,\n",
    " colsample_bytree=0.8,\n",
    " objective= 'multi:softmax',  # for multi-labels classification \n",
    " num_class = 22, \n",
    " scale_pos_weight=1,\n",
    " seed=123)\n",
    "start_time=time.time()\n",
    "xgb.fit(train_data, train_labels_xgb ,eval_metric='auc')\n",
    "print(\"training  model takes %s seconds\" % round((time.time() - start_time),3))"
   ]
  },
  {
   "cell_type": "code",
   "execution_count": 31,
   "metadata": {},
   "outputs": [
    {
     "name": "stdout",
     "output_type": "stream",
     "text": [
      "testing model takes 1.199 seconds\n"
     ]
    }
   ],
   "source": [
    "start_time = time.time()\n",
    "pred_xgb = xgb.predict(test_data)\n",
    "print(\"testing model takes %s seconds\" % round((time.time() - start_time),3))"
   ]
  },
  {
   "cell_type": "code",
   "execution_count": 32,
   "metadata": {},
   "outputs": [
    {
     "name": "stdout",
     "output_type": "stream",
     "text": [
      "Test accuracy is 47.4 percent\n"
     ]
    }
   ],
   "source": [
    "acc_xgb = accuracy_score(pred_xgb,test_labels_xgb )\n",
    "print(\"Test accuracy is %s percent\" %(acc_xgb*100))"
   ]
  },
  {
   "cell_type": "markdown",
   "metadata": {},
   "source": [
    "Try other leaner rate and n_trees"
   ]
  },
  {
   "cell_type": "code",
   "execution_count": 33,
   "metadata": {},
   "outputs": [],
   "source": [
    "xgb_2 = XGBClassifier(\n",
    " learning_rate =0.01,\n",
    " n_estimators= 500,\n",
    " max_depth= 3 ,\n",
    " min_child_weight=1,\n",
    " gamma=0,\n",
    " subsample=0.8,\n",
    " colsample_bytree=0.8,\n",
    " objective= 'multi:softmax',  # for multi-labels classification \n",
    " num_class = 22, \n",
    " scale_pos_weight=1,\n",
    " seed=123)"
   ]
  },
  {
   "cell_type": "code",
   "execution_count": 34,
   "metadata": {},
   "outputs": [
    {
     "name": "stdout",
     "output_type": "stream",
     "text": [
      "training  model takes 2236.248 seconds\n"
     ]
    }
   ],
   "source": [
    "start_time = time.time()\n",
    "xgb_2.fit(train_data, train_labels_xgb ,eval_metric='auc')\n",
    "print(\"training  model takes %s seconds\" % round((time.time() - start_time),3))"
   ]
  },
  {
   "cell_type": "code",
   "execution_count": 40,
   "metadata": {},
   "outputs": [
    {
     "name": "stdout",
     "output_type": "stream",
     "text": [
      "Train accuracy is 98.15 percent\n"
     ]
    }
   ],
   "source": [
    "pred_xgb_2_train = xgb_2.predict(train_data)\n",
    "acc_2_train = accuracy_score(pred_xgb_2_train,train_labels_xgb )\n",
    "print(\"Train accuracy is %s percent\" %(acc_2_train *100))"
   ]
  },
  {
   "cell_type": "code",
   "execution_count": 41,
   "metadata": {},
   "outputs": [
    {
     "name": "stdout",
     "output_type": "stream",
     "text": [
      "Testing model takes 2.033 seconds\n"
     ]
    }
   ],
   "source": [
    "start_time = time.time()\n",
    "pred_xgb_2 = xgb_2.predict(test_data)\n",
    "print(\"Testing model takes %s seconds\" % round((time.time() - start_time),3))"
   ]
  },
  {
   "cell_type": "code",
   "execution_count": 42,
   "metadata": {},
   "outputs": [
    {
     "name": "stdout",
     "output_type": "stream",
     "text": [
      "Test accuracy is 49.2 percent\n"
     ]
    }
   ],
   "source": [
    "acc_2_test = accuracy_score(pred_xgb_2,test_labels_xgb )\n",
    "print(\"Test accuracy is %s percent\" %(acc_2_test *100))"
   ]
  },
  {
   "cell_type": "markdown",
   "metadata": {},
   "source": [
    "Since XGB doesn't improve that much. We deceided to try other models, like Neural Network "
   ]
  },
  {
   "cell_type": "markdown",
   "metadata": {},
   "source": [
    "### Neural Network "
   ]
  },
  {
   "cell_type": "code",
   "execution_count": 14,
   "metadata": {},
   "outputs": [],
   "source": [
    "X = train_data\n",
    "Y = train_label_cat"
   ]
  },
  {
   "cell_type": "markdown",
   "metadata": {},
   "source": [
    "#####  first model"
   ]
  },
  {
   "cell_type": "code",
   "execution_count": 15,
   "metadata": {},
   "outputs": [],
   "source": [
    "input_shape = [2450] \n",
    "input_layer = Input(input_shape)\n",
    "x = BatchNormalization()(input_layer) \n",
    "x = Dense(22*20,activation='relu',kernel_initializer=initializers.glorot_normal(seed=4))(x)\n",
    "x = Dropout(0.25)(x)\n",
    "x = BatchNormalization()(x) \n",
    "x = Dense(22*10,activation='relu',kernel_initializer=initializers.glorot_normal(seed=4))(x)\n",
    "x = Dropout(0.25)(x)\n",
    "x = Dense(22*6,activation='relu',kernel_initializer=initializers.glorot_normal(seed=4))(x)\n",
    "x = Dropout(0.25)(x)\n",
    "x = Dense(22*2,activation='relu',kernel_initializer=initializers.glorot_normal(seed=4))(x)\n",
    "output_layer = Dense(22,activation='softmax',kernel_initializer=initializers.glorot_normal(seed=4))(x) \n",
    "model = Model(input_layer,output_layer)"
   ]
  },
  {
   "cell_type": "code",
   "execution_count": 16,
   "metadata": {},
   "outputs": [
    {
     "name": "stdout",
     "output_type": "stream",
     "text": [
      "WARNING:tensorflow:From /Users/Qiqi/opt/anaconda3/lib/python3.7/site-packages/keras/backend/tensorflow_backend.py:422: The name tf.global_variables is deprecated. Please use tf.compat.v1.global_variables instead.\n",
      "\n",
      "Epoch 1/100\n",
      "2000/2000 [==============================] - 3s 1ms/step - loss: 3.0098 - accuracy: 0.1100\n",
      "Epoch 2/100\n",
      "2000/2000 [==============================] - 2s 1ms/step - loss: 2.6026 - accuracy: 0.1940\n",
      "Epoch 3/100\n",
      "2000/2000 [==============================] - 2s 1ms/step - loss: 2.3021 - accuracy: 0.2700\n",
      "Epoch 4/100\n",
      "2000/2000 [==============================] - 2s 1ms/step - loss: 2.1436 - accuracy: 0.2975\n",
      "Epoch 5/100\n",
      "2000/2000 [==============================] - 2s 1ms/step - loss: 1.9974 - accuracy: 0.3440\n",
      "Epoch 6/100\n",
      "2000/2000 [==============================] - 2s 1ms/step - loss: 1.8468 - accuracy: 0.3920\n",
      "Epoch 7/100\n",
      "2000/2000 [==============================] - 2s 1ms/step - loss: 1.8075 - accuracy: 0.4035\n",
      "Epoch 8/100\n",
      "2000/2000 [==============================] - 2s 1ms/step - loss: 1.6632 - accuracy: 0.4440\n",
      "Epoch 9/100\n",
      "2000/2000 [==============================] - 2s 1ms/step - loss: 1.6180 - accuracy: 0.4590\n",
      "Epoch 10/100\n",
      "2000/2000 [==============================] - 2s 981us/step - loss: 1.5304 - accuracy: 0.4800\n",
      "Epoch 11/100\n",
      "2000/2000 [==============================] - 2s 987us/step - loss: 1.4909 - accuracy: 0.5015\n",
      "Epoch 12/100\n",
      "2000/2000 [==============================] - 2s 1ms/step - loss: 1.4268 - accuracy: 0.5180\n",
      "Epoch 13/100\n",
      "2000/2000 [==============================] - 2s 1ms/step - loss: 1.3894 - accuracy: 0.5365\n",
      "Epoch 14/100\n",
      "2000/2000 [==============================] - 2s 1ms/step - loss: 1.3802 - accuracy: 0.5255\n",
      "Epoch 15/100\n",
      "2000/2000 [==============================] - 2s 1ms/step - loss: 1.3244 - accuracy: 0.5605\n",
      "Epoch 16/100\n",
      "2000/2000 [==============================] - 3s 1ms/step - loss: 1.2694 - accuracy: 0.5745\n",
      "Epoch 17/100\n",
      "2000/2000 [==============================] - 2s 933us/step - loss: 1.2331 - accuracy: 0.5825\n",
      "Epoch 18/100\n",
      "2000/2000 [==============================] - 2s 1000us/step - loss: 1.2198 - accuracy: 0.5815\n",
      "Epoch 19/100\n",
      "2000/2000 [==============================] - 2s 1ms/step - loss: 1.1474 - accuracy: 0.5970\n",
      "Epoch 20/100\n",
      "2000/2000 [==============================] - 3s 1ms/step - loss: 1.1679 - accuracy: 0.6030\n",
      "Epoch 21/100\n",
      "2000/2000 [==============================] - 2s 1ms/step - loss: 1.1470 - accuracy: 0.6075\n",
      "Epoch 22/100\n",
      "2000/2000 [==============================] - 2s 965us/step - loss: 1.0993 - accuracy: 0.6320\n",
      "Epoch 23/100\n",
      "2000/2000 [==============================] - 2s 967us/step - loss: 1.1024 - accuracy: 0.6235\n",
      "Epoch 24/100\n",
      "2000/2000 [==============================] - 2s 956us/step - loss: 1.0572 - accuracy: 0.6230\n",
      "Epoch 25/100\n",
      "2000/2000 [==============================] - 2s 907us/step - loss: 1.0434 - accuracy: 0.6440\n",
      "Epoch 26/100\n",
      "2000/2000 [==============================] - 2s 1ms/step - loss: 1.0149 - accuracy: 0.6510\n",
      "Epoch 27/100\n",
      "2000/2000 [==============================] - 2s 1ms/step - loss: 0.9574 - accuracy: 0.6670\n",
      "Epoch 28/100\n",
      "2000/2000 [==============================] - 2s 1ms/step - loss: 0.9542 - accuracy: 0.6605\n",
      "Epoch 29/100\n",
      "2000/2000 [==============================] - 2s 1ms/step - loss: 0.9491 - accuracy: 0.6785\n",
      "Epoch 30/100\n",
      "2000/2000 [==============================] - 2s 1ms/step - loss: 0.9717 - accuracy: 0.6615\n",
      "Epoch 31/100\n",
      "2000/2000 [==============================] - 2s 1ms/step - loss: 0.9332 - accuracy: 0.6855\n",
      "Epoch 32/100\n",
      "2000/2000 [==============================] - 2s 1ms/step - loss: 0.8520 - accuracy: 0.6990\n",
      "Epoch 33/100\n",
      "2000/2000 [==============================] - 2s 980us/step - loss: 0.9046 - accuracy: 0.6970\n",
      "Epoch 34/100\n",
      "2000/2000 [==============================] - 2s 1ms/step - loss: 0.8415 - accuracy: 0.7115\n",
      "Epoch 35/100\n",
      "2000/2000 [==============================] - 2s 1ms/step - loss: 0.8357 - accuracy: 0.7155\n",
      "Epoch 36/100\n",
      "2000/2000 [==============================] - 2s 947us/step - loss: 0.8008 - accuracy: 0.7305\n",
      "Epoch 37/100\n",
      "2000/2000 [==============================] - 2s 1ms/step - loss: 0.7911 - accuracy: 0.7240\n",
      "Epoch 38/100\n",
      "2000/2000 [==============================] - 2s 979us/step - loss: 0.8218 - accuracy: 0.7190\n",
      "Epoch 39/100\n",
      "2000/2000 [==============================] - 2s 941us/step - loss: 0.8060 - accuracy: 0.7160\n",
      "Epoch 40/100\n",
      "2000/2000 [==============================] - 2s 1ms/step - loss: 0.7463 - accuracy: 0.7435\n",
      "Epoch 41/100\n",
      "2000/2000 [==============================] - 2s 912us/step - loss: 0.7460 - accuracy: 0.7500\n",
      "Epoch 42/100\n",
      "2000/2000 [==============================] - 2s 869us/step - loss: 0.7506 - accuracy: 0.7410\n",
      "Epoch 43/100\n",
      "2000/2000 [==============================] - 2s 878us/step - loss: 0.7058 - accuracy: 0.7515\n",
      "Epoch 44/100\n",
      "2000/2000 [==============================] - 2s 886us/step - loss: 0.6827 - accuracy: 0.7620\n",
      "Epoch 45/100\n",
      "2000/2000 [==============================] - 2s 885us/step - loss: 0.6540 - accuracy: 0.7715\n",
      "Epoch 46/100\n",
      "2000/2000 [==============================] - 2s 886us/step - loss: 0.6767 - accuracy: 0.7645\n",
      "Epoch 47/100\n",
      "2000/2000 [==============================] - 2s 883us/step - loss: 0.6161 - accuracy: 0.7880\n",
      "Epoch 48/100\n",
      "2000/2000 [==============================] - 2s 898us/step - loss: 0.6803 - accuracy: 0.7715\n",
      "Epoch 49/100\n",
      "2000/2000 [==============================] - 2s 938us/step - loss: 0.6737 - accuracy: 0.7675\n",
      "Epoch 50/100\n",
      "2000/2000 [==============================] - 2s 1ms/step - loss: 0.6390 - accuracy: 0.7830\n",
      "Epoch 51/100\n",
      "2000/2000 [==============================] - 2s 894us/step - loss: 0.6277 - accuracy: 0.7915\n",
      "Epoch 52/100\n",
      "2000/2000 [==============================] - 2s 854us/step - loss: 0.6583 - accuracy: 0.7755\n",
      "Epoch 53/100\n",
      "2000/2000 [==============================] - 2s 855us/step - loss: 0.6178 - accuracy: 0.7880\n",
      "Epoch 54/100\n",
      "2000/2000 [==============================] - 2s 844us/step - loss: 0.5641 - accuracy: 0.8095\n",
      "Epoch 55/100\n",
      "2000/2000 [==============================] - 2s 839us/step - loss: 0.5681 - accuracy: 0.8045\n",
      "Epoch 56/100\n",
      "2000/2000 [==============================] - 2s 852us/step - loss: 0.5861 - accuracy: 0.7980\n",
      "Epoch 57/100\n",
      "2000/2000 [==============================] - 2s 851us/step - loss: 0.5702 - accuracy: 0.8055\n",
      "Epoch 58/100\n",
      "2000/2000 [==============================] - 2s 856us/step - loss: 0.6220 - accuracy: 0.7885\n",
      "Epoch 59/100\n",
      "2000/2000 [==============================] - 2s 864us/step - loss: 0.5483 - accuracy: 0.8085\n",
      "Epoch 60/100\n",
      "2000/2000 [==============================] - 2s 855us/step - loss: 0.5028 - accuracy: 0.8235\n",
      "Epoch 61/100\n",
      "2000/2000 [==============================] - 2s 849us/step - loss: 0.4832 - accuracy: 0.8315\n",
      "Epoch 62/100\n",
      "2000/2000 [==============================] - 2s 846us/step - loss: 0.5437 - accuracy: 0.8120\n",
      "Epoch 63/100\n",
      "2000/2000 [==============================] - 2s 848us/step - loss: 0.5407 - accuracy: 0.8175\n",
      "Epoch 64/100\n",
      "2000/2000 [==============================] - 2s 860us/step - loss: 0.5417 - accuracy: 0.8240\n",
      "Epoch 65/100\n",
      "2000/2000 [==============================] - 2s 863us/step - loss: 0.5588 - accuracy: 0.8105\n",
      "Epoch 66/100\n",
      "2000/2000 [==============================] - 2s 861us/step - loss: 0.4595 - accuracy: 0.8530\n",
      "Epoch 67/100\n",
      "2000/2000 [==============================] - 2s 852us/step - loss: 0.4676 - accuracy: 0.8365\n",
      "Epoch 68/100\n",
      "2000/2000 [==============================] - 2s 848us/step - loss: 0.4443 - accuracy: 0.8510\n",
      "Epoch 69/100\n",
      "2000/2000 [==============================] - 2s 855us/step - loss: 0.4556 - accuracy: 0.8395\n",
      "Epoch 70/100\n",
      "2000/2000 [==============================] - 2s 902us/step - loss: 0.4938 - accuracy: 0.8275\n",
      "Epoch 71/100\n",
      "2000/2000 [==============================] - 2s 868us/step - loss: 0.4749 - accuracy: 0.8430\n",
      "Epoch 72/100\n",
      "2000/2000 [==============================] - 2s 867us/step - loss: 0.4462 - accuracy: 0.8510\n",
      "Epoch 73/100\n",
      "2000/2000 [==============================] - 2s 870us/step - loss: 0.4206 - accuracy: 0.8530\n",
      "Epoch 74/100\n",
      "2000/2000 [==============================] - 2s 884us/step - loss: 0.4645 - accuracy: 0.8425\n",
      "Epoch 75/100\n",
      "2000/2000 [==============================] - 2s 874us/step - loss: 0.4099 - accuracy: 0.8655\n",
      "Epoch 76/100\n",
      "2000/2000 [==============================] - 2s 840us/step - loss: 0.4463 - accuracy: 0.8495\n",
      "Epoch 77/100\n",
      "2000/2000 [==============================] - 2s 832us/step - loss: 0.4053 - accuracy: 0.8695\n",
      "Epoch 78/100\n",
      "2000/2000 [==============================] - 2s 850us/step - loss: 0.3804 - accuracy: 0.8745\n",
      "Epoch 79/100\n",
      "2000/2000 [==============================] - 2s 845us/step - loss: 0.4179 - accuracy: 0.8665\n",
      "Epoch 80/100\n",
      "2000/2000 [==============================] - 2s 841us/step - loss: 0.3642 - accuracy: 0.8805\n",
      "Epoch 81/100\n",
      "2000/2000 [==============================] - 2s 836us/step - loss: 0.3640 - accuracy: 0.8840\n",
      "Epoch 82/100\n",
      "2000/2000 [==============================] - 2s 846us/step - loss: 0.3795 - accuracy: 0.8670\n",
      "Epoch 83/100\n",
      "2000/2000 [==============================] - 2s 852us/step - loss: 0.3688 - accuracy: 0.8810\n",
      "Epoch 84/100\n",
      "2000/2000 [==============================] - 2s 869us/step - loss: 0.3296 - accuracy: 0.8870\n",
      "Epoch 85/100\n",
      "2000/2000 [==============================] - 2s 853us/step - loss: 0.3453 - accuracy: 0.8770\n",
      "Epoch 86/100\n",
      "2000/2000 [==============================] - 2s 850us/step - loss: 0.4187 - accuracy: 0.8660\n",
      "Epoch 87/100\n",
      "2000/2000 [==============================] - 2s 856us/step - loss: 0.3666 - accuracy: 0.8800\n",
      "Epoch 88/100\n",
      "2000/2000 [==============================] - 2s 866us/step - loss: 0.3456 - accuracy: 0.8885\n",
      "Epoch 89/100\n",
      "2000/2000 [==============================] - 2s 868us/step - loss: 0.3607 - accuracy: 0.8885\n",
      "Epoch 90/100\n",
      "2000/2000 [==============================] - 2s 867us/step - loss: 0.3411 - accuracy: 0.8885\n",
      "Epoch 91/100\n",
      "2000/2000 [==============================] - 2s 868us/step - loss: 0.3199 - accuracy: 0.8980\n",
      "Epoch 92/100\n",
      "2000/2000 [==============================] - 2s 874us/step - loss: 0.3638 - accuracy: 0.8770\n",
      "Epoch 93/100\n",
      "2000/2000 [==============================] - 2s 867us/step - loss: 0.3461 - accuracy: 0.8865\n",
      "Epoch 94/100\n",
      "2000/2000 [==============================] - 2s 870us/step - loss: 0.3559 - accuracy: 0.8905\n",
      "Epoch 95/100\n",
      "2000/2000 [==============================] - 2s 875us/step - loss: 0.3377 - accuracy: 0.8930\n",
      "Epoch 96/100\n",
      "2000/2000 [==============================] - 2s 880us/step - loss: 0.3310 - accuracy: 0.8945\n",
      "Epoch 97/100\n",
      "2000/2000 [==============================] - 2s 947us/step - loss: 0.3237 - accuracy: 0.8905\n",
      "Epoch 98/100\n",
      "2000/2000 [==============================] - 2s 1ms/step - loss: 0.3168 - accuracy: 0.8935\n",
      "Epoch 99/100\n",
      "2000/2000 [==============================] - 2s 904us/step - loss: 0.3273 - accuracy: 0.9025\n",
      "Epoch 100/100\n",
      "2000/2000 [==============================] - 2s 866us/step - loss: 0.2955 - accuracy: 0.9010\n",
      "training  model takes 195.464 seconds\n"
     ]
    },
    {
     "data": {
      "image/png": "[encoded data removed]",
      "text/plain": [
       "<Figure size 576x432 with 1 Axes>"
      ]
     },
     "metadata": {
      "needs_background": "light"
     },
     "output_type": "display_data"
    }
   ],
   "source": [
    "start_time = time.time()\n",
    "model.compile(loss='categorical_crossentropy',optimizer = Adam(lr=0.001),metrics=['accuracy'])\n",
    "model_his = model.fit(X,Y,epochs=100)\n",
    "plt.figure(figsize=[8,6])\n",
    "plt.plot(model_his.history['accuracy'],'r',linewidth=1.0)\n",
    "plt.legend(['Training Accuracy'],fontsize=18)\n",
    "plt.xlabel('Epochs ',fontsize=16)\n",
    "plt.ylabel('Accuracy',fontsize=16)\n",
    "plt.title('Accuracy Curves',fontsize=16)\n",
    "print(\"training  model takes %s seconds\" % round((time.time() - start_time),3))"
   ]
  },
  {
   "cell_type": "code",
   "execution_count": 45,
   "metadata": {},
   "outputs": [
    {
     "name": "stdout",
     "output_type": "stream",
     "text": [
      "Test accuracy is 53.6 percent\n",
      "testing model takes 0.144 seconds\n"
     ]
    }
   ],
   "source": [
    "t0 = time.time()\n",
    "pred = model.predict(test_data)\n",
    "pred_lst = [] \n",
    "for i in range(len(pred)):\n",
    "    arr = pred[i]\n",
    "    idx = np.argwhere(arr == np.max(arr))\n",
    "    pred_lst.append(idx[0][0])\n",
    "tst_labl = np.argmax(test_label_cat, axis=-1)\n",
    "acc = accuracy_score(pred_lst, tst_labl)\n",
    "print(\"Test accuracy is %s percent\" % round(acc*100,3))\n",
    "print(\"testing model takes %s seconds\" % round((time.time() - t0),3))"
   ]
  },
  {
   "cell_type": "markdown",
   "metadata": {},
   "source": [
    "#####  second model  "
   ]
  },
  {
   "cell_type": "code",
   "execution_count": 18,
   "metadata": {},
   "outputs": [],
   "source": [
    "input_shape = [2450] \n",
    "input_layer = Input(input_shape)\n",
    "x = BatchNormalization(momentum = 0.88)(input_layer) \n",
    "x = Dense(22*10,activation='relu',kernel_initializer=initializers.glorot_normal(seed=4))(x)\n",
    "x = Dropout(0.25)(x)\n",
    "x = BatchNormalization()(x) \n",
    "x = Dense(22*8,activation='relu',kernel_initializer=initializers.glorot_normal(seed=4))(x)\n",
    "x = Dropout(0.25)(x)\n",
    "x = Dense(22*4,activation='relu',kernel_initializer=initializers.glorot_normal(seed=4))(x)\n",
    "x = Dropout(0.25)(x)\n",
    "x = Dense(22*2,activation='relu',kernel_initializer=initializers.glorot_normal(seed=4))(x)\n",
    "output_layer = Dense(22,activation='softmax',kernel_initializer=initializers.glorot_normal(seed=4))(x) \n",
    "model2 = Model(input_layer,output_layer)"
   ]
  },
  {
   "cell_type": "code",
   "execution_count": 19,
   "metadata": {},
   "outputs": [
    {
     "name": "stdout",
     "output_type": "stream",
     "text": [
      "Epoch 1/100\n",
      "2000/2000 [==============================] - 1s 690us/step - loss: 3.0590 - accuracy: 0.0815\n",
      "Epoch 2/100\n",
      "2000/2000 [==============================] - 1s 399us/step - loss: 2.7153 - accuracy: 0.1690\n",
      "Epoch 3/100\n",
      "2000/2000 [==============================] - 1s 413us/step - loss: 2.3441 - accuracy: 0.2405\n",
      "Epoch 4/100\n",
      "2000/2000 [==============================] - 1s 409us/step - loss: 2.1477 - accuracy: 0.2965\n",
      "Epoch 5/100\n",
      "2000/2000 [==============================] - 1s 445us/step - loss: 1.9895 - accuracy: 0.3360\n",
      "Epoch 6/100\n",
      "2000/2000 [==============================] - 1s 415us/step - loss: 1.8939 - accuracy: 0.3710\n",
      "Epoch 7/100\n",
      "2000/2000 [==============================] - 1s 399us/step - loss: 1.8041 - accuracy: 0.3915\n",
      "Epoch 8/100\n",
      "2000/2000 [==============================] - 1s 399us/step - loss: 1.7150 - accuracy: 0.4380\n",
      "Epoch 9/100\n",
      "2000/2000 [==============================] - 1s 395us/step - loss: 1.6383 - accuracy: 0.4565\n",
      "Epoch 10/100\n",
      "2000/2000 [==============================] - 1s 433us/step - loss: 1.6166 - accuracy: 0.4625\n",
      "Epoch 11/100\n",
      "2000/2000 [==============================] - 1s 406us/step - loss: 1.5693 - accuracy: 0.4705\n",
      "Epoch 12/100\n",
      "2000/2000 [==============================] - 1s 408us/step - loss: 1.5100 - accuracy: 0.4810\n",
      "Epoch 13/100\n",
      "2000/2000 [==============================] - 1s 404us/step - loss: 1.4937 - accuracy: 0.4740\n",
      "Epoch 14/100\n",
      "2000/2000 [==============================] - 1s 416us/step - loss: 1.4503 - accuracy: 0.5055\n",
      "Epoch 15/100\n",
      "2000/2000 [==============================] - 1s 415us/step - loss: 1.3912 - accuracy: 0.5140\n",
      "Epoch 16/100\n",
      "2000/2000 [==============================] - 1s 407us/step - loss: 1.3669 - accuracy: 0.5355\n",
      "Epoch 17/100\n",
      "2000/2000 [==============================] - 1s 424us/step - loss: 1.3558 - accuracy: 0.5405\n",
      "Epoch 18/100\n",
      "2000/2000 [==============================] - 1s 396us/step - loss: 1.3229 - accuracy: 0.5545\n",
      "Epoch 19/100\n",
      "2000/2000 [==============================] - 1s 408us/step - loss: 1.3107 - accuracy: 0.5550\n",
      "Epoch 20/100\n",
      "2000/2000 [==============================] - 1s 432us/step - loss: 1.3305 - accuracy: 0.5415\n",
      "Epoch 21/100\n",
      "2000/2000 [==============================] - 1s 462us/step - loss: 1.2595 - accuracy: 0.5740\n",
      "Epoch 22/100\n",
      "2000/2000 [==============================] - 1s 408us/step - loss: 1.2346 - accuracy: 0.5710\n",
      "Epoch 23/100\n",
      "2000/2000 [==============================] - 1s 409us/step - loss: 1.1947 - accuracy: 0.5960\n",
      "Epoch 24/100\n",
      "2000/2000 [==============================] - 1s 423us/step - loss: 1.1987 - accuracy: 0.6010\n",
      "Epoch 25/100\n",
      "2000/2000 [==============================] - 1s 438us/step - loss: 1.1820 - accuracy: 0.5935\n",
      "Epoch 26/100\n",
      "2000/2000 [==============================] - 1s 432us/step - loss: 1.1559 - accuracy: 0.5955\n",
      "Epoch 27/100\n",
      "2000/2000 [==============================] - 1s 418us/step - loss: 1.1476 - accuracy: 0.6075\n",
      "Epoch 28/100\n",
      "2000/2000 [==============================] - 1s 420us/step - loss: 1.1151 - accuracy: 0.6210\n",
      "Epoch 29/100\n",
      "2000/2000 [==============================] - 1s 408us/step - loss: 1.1068 - accuracy: 0.6195\n",
      "Epoch 30/100\n",
      "2000/2000 [==============================] - 1s 420us/step - loss: 1.0692 - accuracy: 0.6355\n",
      "Epoch 31/100\n",
      "2000/2000 [==============================] - 1s 421us/step - loss: 1.0720 - accuracy: 0.6355\n",
      "Epoch 32/100\n",
      "2000/2000 [==============================] - 1s 413us/step - loss: 1.0374 - accuracy: 0.6410\n",
      "Epoch 33/100\n",
      "2000/2000 [==============================] - 1s 438us/step - loss: 1.0714 - accuracy: 0.6415\n",
      "Epoch 34/100\n",
      "2000/2000 [==============================] - 1s 443us/step - loss: 1.0232 - accuracy: 0.6420\n",
      "Epoch 35/100\n",
      "2000/2000 [==============================] - 1s 440us/step - loss: 1.0210 - accuracy: 0.6475\n",
      "Epoch 36/100\n",
      "2000/2000 [==============================] - 1s 422us/step - loss: 0.9603 - accuracy: 0.6670\n",
      "Epoch 37/100\n",
      "2000/2000 [==============================] - 1s 408us/step - loss: 0.9819 - accuracy: 0.6570\n",
      "Epoch 38/100\n",
      "2000/2000 [==============================] - 1s 405us/step - loss: 0.9750 - accuracy: 0.6775\n",
      "Epoch 39/100\n",
      "2000/2000 [==============================] - 1s 429us/step - loss: 0.9673 - accuracy: 0.6660\n",
      "Epoch 40/100\n",
      "2000/2000 [==============================] - 1s 422us/step - loss: 0.9188 - accuracy: 0.6805\n",
      "Epoch 41/100\n",
      "2000/2000 [==============================] - 1s 409us/step - loss: 0.9627 - accuracy: 0.6725\n",
      "Epoch 42/100\n",
      "2000/2000 [==============================] - 1s 414us/step - loss: 0.9577 - accuracy: 0.6600\n",
      "Epoch 43/100\n",
      "2000/2000 [==============================] - 1s 422us/step - loss: 0.9035 - accuracy: 0.6880\n",
      "Epoch 44/100\n",
      "2000/2000 [==============================] - 1s 416us/step - loss: 0.8769 - accuracy: 0.7005\n",
      "Epoch 45/100\n",
      "2000/2000 [==============================] - 1s 418us/step - loss: 0.8466 - accuracy: 0.7080\n",
      "Epoch 46/100\n",
      "2000/2000 [==============================] - 1s 447us/step - loss: 0.8414 - accuracy: 0.7130\n",
      "Epoch 47/100\n",
      "2000/2000 [==============================] - 1s 413us/step - loss: 0.7949 - accuracy: 0.7265\n",
      "Epoch 48/100\n",
      "2000/2000 [==============================] - 1s 420us/step - loss: 0.8681 - accuracy: 0.7010\n",
      "Epoch 49/100\n",
      "2000/2000 [==============================] - 1s 430us/step - loss: 0.8371 - accuracy: 0.7085\n",
      "Epoch 50/100\n",
      "2000/2000 [==============================] - 1s 424us/step - loss: 0.8439 - accuracy: 0.7135\n",
      "Epoch 51/100\n",
      "2000/2000 [==============================] - 1s 429us/step - loss: 0.7993 - accuracy: 0.7280\n",
      "Epoch 52/100\n",
      "2000/2000 [==============================] - 1s 424us/step - loss: 0.7692 - accuracy: 0.7305\n",
      "Epoch 53/100\n",
      "2000/2000 [==============================] - 1s 467us/step - loss: 0.7951 - accuracy: 0.7260\n",
      "Epoch 54/100\n",
      "2000/2000 [==============================] - 1s 441us/step - loss: 0.8462 - accuracy: 0.7055\n",
      "Epoch 55/100\n",
      "2000/2000 [==============================] - 1s 435us/step - loss: 0.8228 - accuracy: 0.7230\n",
      "Epoch 56/100\n",
      "2000/2000 [==============================] - 1s 424us/step - loss: 0.7397 - accuracy: 0.7460\n",
      "Epoch 57/100\n",
      "2000/2000 [==============================] - 1s 440us/step - loss: 0.7218 - accuracy: 0.7495\n",
      "Epoch 58/100\n",
      "2000/2000 [==============================] - 1s 437us/step - loss: 0.6724 - accuracy: 0.7770\n",
      "Epoch 59/100\n",
      "2000/2000 [==============================] - 1s 426us/step - loss: 0.7428 - accuracy: 0.7425\n",
      "Epoch 60/100\n",
      "2000/2000 [==============================] - 1s 433us/step - loss: 0.7412 - accuracy: 0.7470\n",
      "Epoch 61/100\n",
      "2000/2000 [==============================] - 1s 433us/step - loss: 0.6528 - accuracy: 0.7785\n",
      "Epoch 62/100\n",
      "2000/2000 [==============================] - 1s 432us/step - loss: 0.7069 - accuracy: 0.7575\n",
      "Epoch 63/100\n",
      "2000/2000 [==============================] - 1s 438us/step - loss: 0.6897 - accuracy: 0.7610\n",
      "Epoch 64/100\n",
      "2000/2000 [==============================] - 1s 426us/step - loss: 0.7245 - accuracy: 0.7550\n",
      "Epoch 65/100\n",
      "2000/2000 [==============================] - 1s 449us/step - loss: 0.6653 - accuracy: 0.7730\n",
      "Epoch 66/100\n",
      "2000/2000 [==============================] - 1s 438us/step - loss: 0.6764 - accuracy: 0.7650\n",
      "Epoch 67/100\n",
      "2000/2000 [==============================] - 1s 430us/step - loss: 0.6674 - accuracy: 0.7705\n",
      "Epoch 68/100\n",
      "2000/2000 [==============================] - 1s 435us/step - loss: 0.6639 - accuracy: 0.7705\n",
      "Epoch 69/100\n",
      "2000/2000 [==============================] - 1s 430us/step - loss: 0.6315 - accuracy: 0.7885\n",
      "Epoch 70/100\n",
      "2000/2000 [==============================] - 1s 432us/step - loss: 0.6171 - accuracy: 0.7965\n",
      "Epoch 71/100\n",
      "2000/2000 [==============================] - 1s 429us/step - loss: 0.6642 - accuracy: 0.7745\n",
      "Epoch 72/100\n",
      "2000/2000 [==============================] - 1s 423us/step - loss: 0.6131 - accuracy: 0.7850\n",
      "Epoch 73/100\n",
      "2000/2000 [==============================] - 1s 438us/step - loss: 0.6445 - accuracy: 0.7765\n",
      "Epoch 74/100\n",
      "2000/2000 [==============================] - 1s 426us/step - loss: 0.5957 - accuracy: 0.8025\n",
      "Epoch 75/100\n",
      "2000/2000 [==============================] - 1s 441us/step - loss: 0.6373 - accuracy: 0.7915\n",
      "Epoch 76/100\n",
      "2000/2000 [==============================] - 1s 439us/step - loss: 0.6218 - accuracy: 0.7935\n",
      "Epoch 77/100\n",
      "2000/2000 [==============================] - 1s 450us/step - loss: 0.6312 - accuracy: 0.7930\n",
      "Epoch 78/100\n",
      "2000/2000 [==============================] - 1s 406us/step - loss: 0.5746 - accuracy: 0.8085\n",
      "Epoch 79/100\n",
      "2000/2000 [==============================] - 1s 427us/step - loss: 0.5848 - accuracy: 0.8030\n",
      "Epoch 80/100\n",
      "2000/2000 [==============================] - 1s 741us/step - loss: 0.5477 - accuracy: 0.8105\n",
      "Epoch 81/100\n",
      "2000/2000 [==============================] - 1s 741us/step - loss: 0.5349 - accuracy: 0.8125\n",
      "Epoch 82/100\n",
      "2000/2000 [==============================] - 1s 651us/step - loss: 0.5381 - accuracy: 0.8260\n",
      "Epoch 83/100\n",
      "2000/2000 [==============================] - 1s 605us/step - loss: 0.5320 - accuracy: 0.8225\n",
      "Epoch 84/100\n",
      "2000/2000 [==============================] - 1s 707us/step - loss: 0.5029 - accuracy: 0.8235\n",
      "Epoch 85/100\n",
      "2000/2000 [==============================] - 1s 669us/step - loss: 0.5050 - accuracy: 0.8345\n",
      "Epoch 86/100\n",
      "2000/2000 [==============================] - 1s 599us/step - loss: 0.5244 - accuracy: 0.8215\n",
      "Epoch 87/100\n",
      "2000/2000 [==============================] - 1s 549us/step - loss: 0.4986 - accuracy: 0.8340\n",
      "Epoch 88/100\n",
      "2000/2000 [==============================] - 1s 527us/step - loss: 0.5296 - accuracy: 0.8190\n",
      "Epoch 89/100\n",
      "2000/2000 [==============================] - 1s 601us/step - loss: 0.5135 - accuracy: 0.8170\n",
      "Epoch 90/100\n",
      "2000/2000 [==============================] - 1s 638us/step - loss: 0.4818 - accuracy: 0.8370\n",
      "Epoch 91/100\n",
      "2000/2000 [==============================] - 1s 510us/step - loss: 0.5363 - accuracy: 0.8090\n",
      "Epoch 92/100\n",
      "2000/2000 [==============================] - 1s 639us/step - loss: 0.5282 - accuracy: 0.8220\n",
      "Epoch 93/100\n",
      "2000/2000 [==============================] - 1s 656us/step - loss: 0.5103 - accuracy: 0.8300\n",
      "Epoch 94/100\n",
      "2000/2000 [==============================] - 1s 645us/step - loss: 0.5158 - accuracy: 0.8185\n",
      "Epoch 95/100\n",
      "2000/2000 [==============================] - 1s 507us/step - loss: 0.5069 - accuracy: 0.8255\n",
      "Epoch 96/100\n",
      "2000/2000 [==============================] - 1s 604us/step - loss: 0.5065 - accuracy: 0.8300\n",
      "Epoch 97/100\n",
      "2000/2000 [==============================] - 1s 558us/step - loss: 0.4514 - accuracy: 0.8415\n",
      "Epoch 98/100\n",
      "2000/2000 [==============================] - 1s 510us/step - loss: 0.4713 - accuracy: 0.8445\n",
      "Epoch 99/100\n",
      "2000/2000 [==============================] - 1s 533us/step - loss: 0.4496 - accuracy: 0.8505\n",
      "Epoch 100/100\n",
      "2000/2000 [==============================] - 1s 368us/step - loss: 0.5042 - accuracy: 0.8190\n",
      "training  model takes 94.409 seconds\n"
     ]
    },
    {
     "data": {
      "image/png": "[encoded data removed]",
      "text/plain": [
       "<Figure size 576x432 with 1 Axes>"
      ]
     },
     "metadata": {
      "needs_background": "light"
     },
     "output_type": "display_data"
    }
   ],
   "source": [
    "start_time = time.time()\n",
    "model2.compile(loss='categorical_crossentropy',optimizer = Adam(lr=0.001),metrics=['accuracy'])\n",
    "model_his = model2.fit(X,Y,epochs=100)\n",
    "plt.figure(figsize=[8,6])\n",
    "plt.plot(model_his.history['accuracy'],'r',linewidth=1.0)\n",
    "plt.legend(['Training Accuracy'],fontsize=18)\n",
    "plt.xlabel('Epochs ',fontsize=16)\n",
    "plt.ylabel('Accuracy',fontsize=16)\n",
    "plt.title('Accuracy Curves',fontsize=16)\n",
    "print(\"training  model takes %s seconds\" % round((time.time() - start_time),3))"
   ]
  },
  {
   "cell_type": "code",
   "execution_count": 43,
   "metadata": {},
   "outputs": [
    {
     "name": "stdout",
     "output_type": "stream",
     "text": [
      "Test accuracy is 56.4 percent\n",
      "testing model takes 0.179 seconds\n"
     ]
    }
   ],
   "source": [
    "t0 = time.time()\n",
    "pred2 = model2.predict(test_data)\n",
    "pred_lst2 = [] \n",
    "for i in range(len(pred2)):\n",
    "    arr = pred2[i]\n",
    "    idx = np.argwhere(arr == np.max(arr))\n",
    "    pred_lst2.append(idx[0][0])\n",
    "tst_labl = np.argmax(test_label_cat, axis=-1)\n",
    "acc = accuracy_score(pred_lst2, tst_labl)\n",
    "print(\"Test accuracy is %s percent\" % round(acc*100,3))\n",
    "print(\"testing model takes %s seconds\" % round((time.time() - t0),3))"
   ]
  },
  {
   "cell_type": "markdown",
   "metadata": {},
   "source": [
    "#####  third model "
   ]
  },
  {
   "cell_type": "code",
   "execution_count": 21,
   "metadata": {},
   "outputs": [],
   "source": [
    "input_shape = [2450] \n",
    "input_layer = Input(input_shape)\n",
    "x = BatchNormalization(momentum = 0.88)(input_layer) \n",
    "x = Dense(22*20,activation='relu',kernel_initializer=initializers.glorot_normal(seed=4))(x)\n",
    "x = Dropout(0.25)(x)\n",
    "x = BatchNormalization()(x) \n",
    "x = Dense(22*10,activation='relu',kernel_initializer=initializers.glorot_normal(seed=4))(x)\n",
    "x = Dropout(0.25)(x)\n",
    "x = Dense(22*6,activation='relu',kernel_initializer=initializers.glorot_normal(seed=4))(x)\n",
    "x = Dropout(0.25)(x)\n",
    "x = Dense(22*2,activation='relu',kernel_initializer=initializers.glorot_normal(seed=4))(x)\n",
    "output_layer = Dense(22,activation='softmax',kernel_initializer=initializers.glorot_normal(seed=4))(x) \n",
    "model3 = Model(input_layer,output_layer)"
   ]
  },
  {
   "cell_type": "code",
   "execution_count": 22,
   "metadata": {},
   "outputs": [
    {
     "name": "stdout",
     "output_type": "stream",
     "text": [
      "Epoch 1/100\n",
      "2000/2000 [==============================] - 2s 1ms/step - loss: 2.9908 - accuracy: 0.0975\n",
      "Epoch 2/100\n",
      "2000/2000 [==============================] - 1s 750us/step - loss: 2.6035 - accuracy: 0.2020\n",
      "Epoch 3/100\n",
      "2000/2000 [==============================] - 2s 1ms/step - loss: 2.2965 - accuracy: 0.2825\n",
      "Epoch 4/100\n",
      "2000/2000 [==============================] - 2s 1ms/step - loss: 2.0985 - accuracy: 0.3215\n",
      "Epoch 5/100\n",
      "2000/2000 [==============================] - 3s 1ms/step - loss: 1.9475 - accuracy: 0.3640\n",
      "Epoch 6/100\n",
      "2000/2000 [==============================] - 2s 1ms/step - loss: 1.8338 - accuracy: 0.3995\n",
      "Epoch 7/100\n",
      "2000/2000 [==============================] - 4s 2ms/step - loss: 1.7790 - accuracy: 0.4050\n",
      "Epoch 8/100\n",
      "2000/2000 [==============================] - 3s 1ms/step - loss: 1.6514 - accuracy: 0.4510\n",
      "Epoch 9/100\n",
      "2000/2000 [==============================] - 3s 1ms/step - loss: 1.5575 - accuracy: 0.4695\n",
      "Epoch 10/100\n",
      "2000/2000 [==============================] - 3s 1ms/step - loss: 1.5226 - accuracy: 0.4700\n",
      "Epoch 11/100\n",
      "2000/2000 [==============================] - 3s 2ms/step - loss: 1.4856 - accuracy: 0.4965\n",
      "Epoch 12/100\n",
      "2000/2000 [==============================] - 3s 1ms/step - loss: 1.4759 - accuracy: 0.4970\n",
      "Epoch 13/100\n",
      "2000/2000 [==============================] - 3s 1ms/step - loss: 1.4046 - accuracy: 0.5185\n",
      "Epoch 14/100\n",
      "2000/2000 [==============================] - 3s 2ms/step - loss: 1.2936 - accuracy: 0.5600\n",
      "Epoch 15/100\n",
      "2000/2000 [==============================] - 3s 2ms/step - loss: 1.3201 - accuracy: 0.5510\n",
      "Epoch 16/100\n",
      "2000/2000 [==============================] - 3s 1ms/step - loss: 1.3237 - accuracy: 0.5535\n",
      "Epoch 17/100\n",
      "2000/2000 [==============================] - 2s 1ms/step - loss: 1.1766 - accuracy: 0.5985\n",
      "Epoch 18/100\n",
      "2000/2000 [==============================] - 2s 1ms/step - loss: 1.2648 - accuracy: 0.5560\n",
      "Epoch 19/100\n",
      "2000/2000 [==============================] - 2s 1ms/step - loss: 1.1955 - accuracy: 0.5905: 0s - loss: 1.1955 - accuracy: 0.59\n",
      "Epoch 20/100\n",
      "2000/2000 [==============================] - 3s 1ms/step - loss: 1.1674 - accuracy: 0.6080\n",
      "Epoch 21/100\n",
      "2000/2000 [==============================] - 2s 1ms/step - loss: 1.1315 - accuracy: 0.6115\n",
      "Epoch 22/100\n",
      "2000/2000 [==============================] - 2s 953us/step - loss: 1.0826 - accuracy: 0.62051s\n",
      "Epoch 23/100\n",
      "2000/2000 [==============================] - 2s 787us/step - loss: 1.0949 - accuracy: 0.6255\n",
      "Epoch 24/100\n",
      "2000/2000 [==============================] - 1s 734us/step - loss: 1.0493 - accuracy: 0.6390\n",
      "Epoch 25/100\n",
      "2000/2000 [==============================] - 1s 728us/step - loss: 1.0591 - accuracy: 0.6330\n",
      "Epoch 26/100\n",
      "2000/2000 [==============================] - 1s 730us/step - loss: 1.0335 - accuracy: 0.6525\n",
      "Epoch 27/100\n",
      "2000/2000 [==============================] - 1s 746us/step - loss: 1.0075 - accuracy: 0.6450\n",
      "Epoch 28/100\n",
      "2000/2000 [==============================] - 1s 730us/step - loss: 0.9678 - accuracy: 0.6720\n",
      "Epoch 29/100\n",
      "2000/2000 [==============================] - 2s 918us/step - loss: 1.0129 - accuracy: 0.6520\n",
      "Epoch 30/100\n",
      "2000/2000 [==============================] - 2s 901us/step - loss: 0.9687 - accuracy: 0.6595\n",
      "Epoch 31/100\n",
      "2000/2000 [==============================] - 2s 955us/step - loss: 0.9172 - accuracy: 0.6895\n",
      "Epoch 32/100\n",
      "2000/2000 [==============================] - 2s 832us/step - loss: 0.9052 - accuracy: 0.6865\n",
      "Epoch 33/100\n",
      "2000/2000 [==============================] - 2s 913us/step - loss: 0.8806 - accuracy: 0.6930\n",
      "Epoch 34/100\n",
      "2000/2000 [==============================] - 2s 1ms/step - loss: 0.8464 - accuracy: 0.7075\n",
      "Epoch 35/100\n",
      "2000/2000 [==============================] - 2s 857us/step - loss: 0.8443 - accuracy: 0.7110\n",
      "Epoch 36/100\n",
      "2000/2000 [==============================] - 2s 953us/step - loss: 0.7887 - accuracy: 0.7200\n",
      "Epoch 37/100\n",
      "2000/2000 [==============================] - 2s 750us/step - loss: 0.8209 - accuracy: 0.7155\n",
      "Epoch 38/100\n",
      "2000/2000 [==============================] - 2s 841us/step - loss: 0.8098 - accuracy: 0.7225\n",
      "Epoch 39/100\n",
      "2000/2000 [==============================] - 2s 810us/step - loss: 0.7952 - accuracy: 0.7385\n",
      "Epoch 40/100\n",
      "2000/2000 [==============================] - 2s 750us/step - loss: 0.7986 - accuracy: 0.7315\n",
      "Epoch 41/100\n",
      "2000/2000 [==============================] - 1s 726us/step - loss: 0.7655 - accuracy: 0.7325\n",
      "Epoch 42/100\n",
      "2000/2000 [==============================] - 2s 883us/step - loss: 0.7523 - accuracy: 0.7440\n",
      "Epoch 43/100\n",
      "2000/2000 [==============================] - 2s 844us/step - loss: 0.7324 - accuracy: 0.7520\n",
      "Epoch 44/100\n",
      "2000/2000 [==============================] - 2s 879us/step - loss: 0.7128 - accuracy: 0.75950s - loss: 0.7036 - accuracy: 0.\n",
      "Epoch 45/100\n",
      "2000/2000 [==============================] - 2s 847us/step - loss: 0.7191 - accuracy: 0.7440\n",
      "Epoch 46/100\n",
      "2000/2000 [==============================] - 2s 851us/step - loss: 0.7354 - accuracy: 0.7630\n",
      "Epoch 47/100\n",
      "2000/2000 [==============================] - 2s 865us/step - loss: 0.6836 - accuracy: 0.7585\n",
      "Epoch 48/100\n",
      "2000/2000 [==============================] - 2s 833us/step - loss: 0.6988 - accuracy: 0.7605\n",
      "Epoch 49/100\n",
      "2000/2000 [==============================] - 2s 881us/step - loss: 0.6303 - accuracy: 0.7825\n",
      "Epoch 50/100\n",
      "2000/2000 [==============================] - 2s 892us/step - loss: 0.6538 - accuracy: 0.7740\n",
      "Epoch 51/100\n",
      "2000/2000 [==============================] - 2s 827us/step - loss: 0.5883 - accuracy: 0.7965\n",
      "Epoch 52/100\n",
      "2000/2000 [==============================] - 2s 849us/step - loss: 0.6166 - accuracy: 0.7840\n",
      "Epoch 53/100\n",
      "2000/2000 [==============================] - 2s 981us/step - loss: 0.6008 - accuracy: 0.7890\n",
      "Epoch 54/100\n",
      "2000/2000 [==============================] - 2s 1ms/step - loss: 0.6245 - accuracy: 0.7865\n",
      "Epoch 55/100\n",
      "2000/2000 [==============================] - 1s 746us/step - loss: 0.6091 - accuracy: 0.7845\n",
      "Epoch 56/100\n",
      "2000/2000 [==============================] - 1s 710us/step - loss: 0.6098 - accuracy: 0.7895\n",
      "Epoch 57/100\n",
      "2000/2000 [==============================] - 1s 690us/step - loss: 0.6251 - accuracy: 0.7945\n",
      "Epoch 58/100\n",
      "2000/2000 [==============================] - 1s 693us/step - loss: 0.6090 - accuracy: 0.7895\n",
      "Epoch 59/100\n",
      "2000/2000 [==============================] - 1s 695us/step - loss: 0.5603 - accuracy: 0.8025\n",
      "Epoch 60/100\n",
      "2000/2000 [==============================] - 2s 933us/step - loss: 0.5294 - accuracy: 0.8190\n",
      "Epoch 61/100\n",
      "2000/2000 [==============================] - 2s 898us/step - loss: 0.5618 - accuracy: 0.8115\n",
      "Epoch 62/100\n",
      "2000/2000 [==============================] - 2s 924us/step - loss: 0.5549 - accuracy: 0.8155\n",
      "Epoch 63/100\n",
      "2000/2000 [==============================] - 2s 831us/step - loss: 0.5232 - accuracy: 0.8195\n",
      "Epoch 64/100\n",
      "2000/2000 [==============================] - 2s 1ms/step - loss: 0.5062 - accuracy: 0.8235\n",
      "Epoch 65/100\n",
      "2000/2000 [==============================] - 2s 876us/step - loss: 0.4977 - accuracy: 0.8350\n",
      "Epoch 66/100\n",
      "2000/2000 [==============================] - 2s 1ms/step - loss: 0.5203 - accuracy: 0.8085\n",
      "Epoch 67/100\n",
      "2000/2000 [==============================] - 2s 755us/step - loss: 0.4724 - accuracy: 0.8420\n",
      "Epoch 68/100\n",
      "2000/2000 [==============================] - 2s 907us/step - loss: 0.5018 - accuracy: 0.8340\n",
      "Epoch 69/100\n",
      "2000/2000 [==============================] - 2s 912us/step - loss: 0.4772 - accuracy: 0.8345\n",
      "Epoch 70/100\n",
      "2000/2000 [==============================] - 2s 1ms/step - loss: 0.4488 - accuracy: 0.8450\n",
      "Epoch 71/100\n",
      "2000/2000 [==============================] - 2s 952us/step - loss: 0.4805 - accuracy: 0.8400\n",
      "Epoch 72/100\n",
      "2000/2000 [==============================] - 2s 876us/step - loss: 0.4579 - accuracy: 0.8445\n",
      "Epoch 73/100\n",
      "2000/2000 [==============================] - 2s 834us/step - loss: 0.4257 - accuracy: 0.8485\n",
      "Epoch 74/100\n",
      "2000/2000 [==============================] - 3s 2ms/step - loss: 0.4421 - accuracy: 0.8625\n",
      "Epoch 75/100\n",
      "2000/2000 [==============================] - 3s 1ms/step - loss: 0.3868 - accuracy: 0.8620\n",
      "Epoch 76/100\n",
      "2000/2000 [==============================] - 3s 1ms/step - loss: 0.4789 - accuracy: 0.8445\n",
      "Epoch 77/100\n",
      "2000/2000 [==============================] - 3s 1ms/step - loss: 0.4521 - accuracy: 0.8500\n",
      "Epoch 78/100\n",
      "2000/2000 [==============================] - 2s 1ms/step - loss: 0.4047 - accuracy: 0.8590\n",
      "Epoch 79/100\n",
      "2000/2000 [==============================] - 3s 1ms/step - loss: 0.4047 - accuracy: 0.8605\n",
      "Epoch 80/100\n",
      "2000/2000 [==============================] - 2s 1ms/step - loss: 0.4193 - accuracy: 0.8660\n",
      "Epoch 81/100\n",
      "2000/2000 [==============================] - 2s 1ms/step - loss: 0.4102 - accuracy: 0.8620\n",
      "Epoch 82/100\n",
      "2000/2000 [==============================] - 3s 2ms/step - loss: 0.3858 - accuracy: 0.8700\n",
      "Epoch 83/100\n",
      "2000/2000 [==============================] - 3s 2ms/step - loss: 0.3721 - accuracy: 0.8720\n",
      "Epoch 84/100\n",
      "2000/2000 [==============================] - 3s 1ms/step - loss: 0.3919 - accuracy: 0.8605\n",
      "Epoch 85/100\n",
      "2000/2000 [==============================] - 3s 1ms/step - loss: 0.3791 - accuracy: 0.8710\n",
      "Epoch 86/100\n",
      "2000/2000 [==============================] - 3s 1ms/step - loss: 0.3732 - accuracy: 0.8710\n",
      "Epoch 87/100\n",
      "2000/2000 [==============================] - 2s 1ms/step - loss: 0.3738 - accuracy: 0.8720\n",
      "Epoch 88/100\n",
      "2000/2000 [==============================] - 3s 1ms/step - loss: 0.3500 - accuracy: 0.8830\n",
      "Epoch 89/100\n",
      "2000/2000 [==============================] - 2s 1ms/step - loss: 0.3251 - accuracy: 0.8945\n",
      "Epoch 90/100\n",
      "2000/2000 [==============================] - 2s 931us/step - loss: 0.3979 - accuracy: 0.8670\n",
      "Epoch 91/100\n",
      "2000/2000 [==============================] - 2s 1ms/step - loss: 0.3487 - accuracy: 0.8795\n",
      "Epoch 92/100\n",
      "2000/2000 [==============================] - 2s 890us/step - loss: 0.3731 - accuracy: 0.8750\n",
      "Epoch 93/100\n",
      "2000/2000 [==============================] - 3s 1ms/step - loss: 0.4100 - accuracy: 0.8650\n",
      "Epoch 94/100\n",
      "2000/2000 [==============================] - 2s 1ms/step - loss: 0.3546 - accuracy: 0.8755\n",
      "Epoch 95/100\n",
      "2000/2000 [==============================] - 2s 1ms/step - loss: 0.3288 - accuracy: 0.8915\n",
      "Epoch 96/100\n",
      "2000/2000 [==============================] - 3s 1ms/step - loss: 0.2954 - accuracy: 0.9055\n",
      "Epoch 97/100\n",
      "2000/2000 [==============================] - 3s 2ms/step - loss: 0.2969 - accuracy: 0.9010\n",
      "Epoch 98/100\n",
      "2000/2000 [==============================] - 3s 1ms/step - loss: 0.3132 - accuracy: 0.8950\n",
      "Epoch 99/100\n",
      "2000/2000 [==============================] - 3s 1ms/step - loss: 0.3239 - accuracy: 0.8915\n",
      "Epoch 100/100\n",
      "2000/2000 [==============================] - 2s 960us/step - loss: 0.2765 - accuracy: 0.9125\n",
      "training  model takes 215.43 seconds\n"
     ]
    },
    {
     "data": {
      "image/png": "[encoded data removed]",
      "text/plain": [
       "<Figure size 576x432 with 1 Axes>"
      ]
     },
     "metadata": {
      "needs_background": "light"
     },
     "output_type": "display_data"
    }
   ],
   "source": [
    "start_time = time.time()\n",
    "model3.compile(loss='categorical_crossentropy',optimizer = Adam(lr=0.001),metrics=['accuracy'])\n",
    "model_his = model3.fit(X,Y,epochs=100)\n",
    "plt.figure(figsize=[8,6])\n",
    "plt.plot(model_his.history['accuracy'],'r',linewidth=1.0)\n",
    "plt.legend(['Training Accuracy'],fontsize=18)\n",
    "plt.xlabel('Epochs ',fontsize=16)\n",
    "plt.ylabel('Accuracy',fontsize=16)\n",
    "plt.title('Accuracy Curves',fontsize=16)\n",
    "print(\"training  model takes %s seconds\" % round((time.time() - start_time),3))"
   ]
  },
  {
   "cell_type": "code",
   "execution_count": 44,
   "metadata": {},
   "outputs": [
    {
     "name": "stdout",
     "output_type": "stream",
     "text": [
      "Test accuracy is 55.6 percent\n",
      "testing model takes 0.17 seconds\n"
     ]
    }
   ],
   "source": [
    "t0 = time.time()\n",
    "pred3 = model3.predict(test_data)\n",
    "pred_lst3 = [] \n",
    "for i in range(len(pred3)):\n",
    "    arr = pred3[i]\n",
    "    idx = np.argwhere(arr == np.max(arr))\n",
    "    pred_lst3.append(idx[0][0])\n",
    "tst_labl = np.argmax(test_label_cat, axis=-1)\n",
    "\n",
    "acc = accuracy_score(pred_lst3, tst_labl)\n",
    "print(\"Test accuracy is %s percent\" %round(acc*100,3))\n",
    "print(\"testing model takes %s seconds\" % round((time.time() - t0),3))"
   ]
  },
  {
   "cell_type": "markdown",
   "metadata": {},
   "source": [
    "Since second model gives the highest test accuary among three, so deceides to use this on the presentation day. "
   ]
  },
  {
   "cell_type": "markdown",
   "metadata": {},
   "source": [
    "### Run the testing data  -  using model2 in NN "
   ]
  },
  {
   "cell_type": "code",
   "execution_count": 24,
   "metadata": {},
   "outputs": [],
   "source": [
    "tst_root = sys.path[0]\n",
    "test_dir = os.path.join(tst_root,  '../data/test_set_sec2')  \n",
    "test_path =  os.path.join(test_dir,  \"labels_prediction.csv\") \n",
    "test_index = pd.read_csv(test_path)\n",
    "test_pt_dir =  os.path.join(test_dir, 'points' )"
   ]
  },
  {
   "cell_type": "code",
   "execution_count": 25,
   "metadata": {},
   "outputs": [],
   "source": [
    "# read mat file and store coordinates in mat \n",
    "m_test = []\n",
    "for idx in test_index['Index']: \n",
    "    file = \"%04d.mat\"%(idx)\n",
    "    m_test.append( scipy.io.loadmat( os.path.join( test_pt_dir, file ) ))"
   ]
  },
  {
   "cell_type": "code",
   "execution_count": 26,
   "metadata": {},
   "outputs": [],
   "source": [
    "mat_test = [x[[i for i in x.keys() if not i in ['__header__', '__version__', '__globals__']][0]] for x in m_test]"
   ]
  },
  {
   "cell_type": "code",
   "execution_count": 27,
   "metadata": {},
   "outputs": [
    {
     "name": "stdout",
     "output_type": "stream",
     "text": [
      "feature constructions takes 30.239994049072266 seconds\n"
     ]
    }
   ],
   "source": [
    "to_test_data = pairwise_dist_cal_updt(mat_test)\n",
    "# choose model2 "
   ]
  },
  {
   "cell_type": "code",
   "execution_count": 28,
   "metadata": {},
   "outputs": [
    {
     "name": "stdout",
     "output_type": "stream",
     "text": [
      "testing model takes 0.315 seconds\n"
     ]
    }
   ],
   "source": [
    "t0 = time.time()\n",
    "pred_test  = model2.predict(to_test_data)\n",
    "pred_test_lst = [] \n",
    "for i in range(len(pred_test)):\n",
    "    arr = pred_test[i]\n",
    "    idx = np.argwhere(arr == np.max(arr))\n",
    "    pred_test_lst.append(idx[0][0])\n",
    "print(\"testing model takes %s seconds\" % round((time.time() - t0),3))"
   ]
  },
  {
   "cell_type": "code",
   "execution_count": 29,
   "metadata": {},
   "outputs": [],
   "source": [
    "final_pred = pd.DataFrame([1+x for x in pred_test_lst]).to_csv(\"../output/final_model.csv\",index=False)"
   ]
  },
  {
   "cell_type": "code",
   "execution_count": null,
   "metadata": {},
   "outputs": [],
   "source": []
  }
 ],
 "metadata": {
  "kernelspec": {
   "display_name": "Python 3",
   "language": "python",
   "name": "python3"
  },
  "language_info": {
   "codemirror_mode": {
    "name": "ipython",
    "version": 3
   },
   "file_extension": ".py",
   "mimetype": "text/x-python",
   "name": "python",
   "nbconvert_exporter": "python",
   "pygments_lexer": "ipython3",
   "version": "3.7.4"
  }
 },
 "nbformat": 4,
 "nbformat_minor": 2
}
