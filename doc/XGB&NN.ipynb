{
 "cells": [
  {
   "cell_type": "code",
   "execution_count": 1,
   "metadata": {},
   "outputs": [
    {
     "name": "stderr",
     "output_type": "stream",
     "text": [
      "Using TensorFlow backend.\n",
      "/Users/Qiqi/opt/anaconda3/lib/python3.7/site-packages/tensorflow/python/framework/dtypes.py:516: FutureWarning: Passing (type, 1) or '1type' as a synonym of type is deprecated; in a future version of numpy, it will be understood as (type, (1,)) / '(1,)type'.\n",
      "  _np_qint8 = np.dtype([(\"qint8\", np.int8, 1)])\n",
      "/Users/Qiqi/opt/anaconda3/lib/python3.7/site-packages/tensorflow/python/framework/dtypes.py:517: FutureWarning: Passing (type, 1) or '1type' as a synonym of type is deprecated; in a future version of numpy, it will be understood as (type, (1,)) / '(1,)type'.\n",
      "  _np_quint8 = np.dtype([(\"quint8\", np.uint8, 1)])\n",
      "/Users/Qiqi/opt/anaconda3/lib/python3.7/site-packages/tensorflow/python/framework/dtypes.py:518: FutureWarning: Passing (type, 1) or '1type' as a synonym of type is deprecated; in a future version of numpy, it will be understood as (type, (1,)) / '(1,)type'.\n",
      "  _np_qint16 = np.dtype([(\"qint16\", np.int16, 1)])\n",
      "/Users/Qiqi/opt/anaconda3/lib/python3.7/site-packages/tensorflow/python/framework/dtypes.py:519: FutureWarning: Passing (type, 1) or '1type' as a synonym of type is deprecated; in a future version of numpy, it will be understood as (type, (1,)) / '(1,)type'.\n",
      "  _np_quint16 = np.dtype([(\"quint16\", np.uint16, 1)])\n",
      "/Users/Qiqi/opt/anaconda3/lib/python3.7/site-packages/tensorflow/python/framework/dtypes.py:520: FutureWarning: Passing (type, 1) or '1type' as a synonym of type is deprecated; in a future version of numpy, it will be understood as (type, (1,)) / '(1,)type'.\n",
      "  _np_qint32 = np.dtype([(\"qint32\", np.int32, 1)])\n",
      "/Users/Qiqi/opt/anaconda3/lib/python3.7/site-packages/tensorflow/python/framework/dtypes.py:525: FutureWarning: Passing (type, 1) or '1type' as a synonym of type is deprecated; in a future version of numpy, it will be understood as (type, (1,)) / '(1,)type'.\n",
      "  np_resource = np.dtype([(\"resource\", np.ubyte, 1)])\n",
      "/Users/Qiqi/opt/anaconda3/lib/python3.7/site-packages/tensorboard/compat/tensorflow_stub/dtypes.py:541: FutureWarning: Passing (type, 1) or '1type' as a synonym of type is deprecated; in a future version of numpy, it will be understood as (type, (1,)) / '(1,)type'.\n",
      "  _np_qint8 = np.dtype([(\"qint8\", np.int8, 1)])\n",
      "/Users/Qiqi/opt/anaconda3/lib/python3.7/site-packages/tensorboard/compat/tensorflow_stub/dtypes.py:542: FutureWarning: Passing (type, 1) or '1type' as a synonym of type is deprecated; in a future version of numpy, it will be understood as (type, (1,)) / '(1,)type'.\n",
      "  _np_quint8 = np.dtype([(\"quint8\", np.uint8, 1)])\n",
      "/Users/Qiqi/opt/anaconda3/lib/python3.7/site-packages/tensorboard/compat/tensorflow_stub/dtypes.py:543: FutureWarning: Passing (type, 1) or '1type' as a synonym of type is deprecated; in a future version of numpy, it will be understood as (type, (1,)) / '(1,)type'.\n",
      "  _np_qint16 = np.dtype([(\"qint16\", np.int16, 1)])\n",
      "/Users/Qiqi/opt/anaconda3/lib/python3.7/site-packages/tensorboard/compat/tensorflow_stub/dtypes.py:544: FutureWarning: Passing (type, 1) or '1type' as a synonym of type is deprecated; in a future version of numpy, it will be understood as (type, (1,)) / '(1,)type'.\n",
      "  _np_quint16 = np.dtype([(\"quint16\", np.uint16, 1)])\n",
      "/Users/Qiqi/opt/anaconda3/lib/python3.7/site-packages/tensorboard/compat/tensorflow_stub/dtypes.py:545: FutureWarning: Passing (type, 1) or '1type' as a synonym of type is deprecated; in a future version of numpy, it will be understood as (type, (1,)) / '(1,)type'.\n",
      "  _np_qint32 = np.dtype([(\"qint32\", np.int32, 1)])\n",
      "/Users/Qiqi/opt/anaconda3/lib/python3.7/site-packages/tensorboard/compat/tensorflow_stub/dtypes.py:550: FutureWarning: Passing (type, 1) or '1type' as a synonym of type is deprecated; in a future version of numpy, it will be understood as (type, (1,)) / '(1,)type'.\n",
      "  np_resource = np.dtype([(\"resource\", np.ubyte, 1)])\n"
     ]
    }
   ],
   "source": [
    "import os,sys\n",
    "import pandas as pd\n",
    "from sklearn.model_selection import train_test_split\n",
    "import scipy.io\n",
    "import numpy as np \n",
    "from scipy.spatial.distance import pdist\n",
    "import time \n",
    "import math\n",
    "import xgboost as xgb\n",
    "from xgboost.sklearn import XGBClassifier\n",
    "from sklearn.metrics import accuracy_score\n",
    "from sklearn.model_selection import GridSearchCV\n",
    "import keras\n",
    "from keras.utils import to_categorical\n",
    "import matplotlib.pyplot as plt\n",
    "from tensorflow.keras.models import Sequential"
   ]
  },
  {
   "cell_type": "code",
   "execution_count": 2,
   "metadata": {},
   "outputs": [],
   "source": [
    "from keras.layers import Dense, Activation, Flatten, Input, Dropout\n",
    "from keras.layers import BatchNormalization\n",
    "from keras.models import Model\n",
    "from keras import initializers\n",
    "from keras.optimizers import Adam"
   ]
  },
  {
   "cell_type": "code",
   "execution_count": 3,
   "metadata": {},
   "outputs": [],
   "source": [
    "# change the root to your own path \n",
    "root = sys.path[0]\n",
    "train_dir =  os.path.join(root,  '../data/train_set')  \n",
    "train_image_dir =  os.path.join(train_dir, 'images')\n",
    "train_pt_dir =  os.path.join(train_dir, 'points' )\n",
    "train_label_path =  os.path.join(train_dir,  \"label.csv\") "
   ]
  },
  {
   "cell_type": "code",
   "execution_count": 4,
   "metadata": {},
   "outputs": [],
   "source": [
    "info = pd.read_csv(train_label_path)\n",
    "train_idx, test_idx = train_test_split(info['Index'], test_size=0.2, random_state=123)\n",
    "\n",
    "# read mat file and store coordinates in mat \n",
    "m = []\n",
    "for idx in info['Index']: \n",
    "    file = \"%04d.mat\"%(idx)\n",
    "    m.append( scipy.io.loadmat( os.path.join( train_pt_dir, file ) ))\n",
    "\n",
    "mat = [x[[i for i in x.keys() if not i in ['__header__', '__version__', '__globals__']][0]] for x in m]"
   ]
  },
  {
   "cell_type": "markdown",
   "metadata": {},
   "source": [
    "###  train test split"
   ]
  },
  {
   "cell_type": "code",
   "execution_count": 5,
   "metadata": {},
   "outputs": [],
   "source": [
    "train_idx, test_idx = train_test_split(info['Index'], test_size=0.2, random_state=123)"
   ]
  },
  {
   "cell_type": "code",
   "execution_count": 16,
   "metadata": {},
   "outputs": [],
   "source": [
    "train_mat = [ mat[i-1] for i in train_idx ] \n",
    "test_mat = [ mat[i-1] for i in test_idx ] "
   ]
  },
  {
   "cell_type": "code",
   "execution_count": 22,
   "metadata": {},
   "outputs": [],
   "source": [
    "train_labels = info.emotion_idx[train_idx-1]\n",
    "test_labels = info.emotion_idx[test_idx-1]"
   ]
  },
  {
   "cell_type": "code",
   "execution_count": 29,
   "metadata": {},
   "outputs": [],
   "source": [
    "train_label_cat = to_categorical(train_labels)\n",
    "train_label_cat= train_label_cat[:,1:]\n",
    "test_label_cat = to_categorical(test_labels)\n",
    "test_label_cat= test_label_cat[:,1:]"
   ]
  },
  {
   "cell_type": "markdown",
   "metadata": {},
   "source": [
    "### feature extraction  "
   ]
  },
  {
   "cell_type": "code",
   "execution_count": 18,
   "metadata": {},
   "outputs": [],
   "source": [
    "# method 1：  pairwise_dist_cal  \n",
    "#def pairwise_dist_cal(xy_cord):\n",
    "    #p_dist =[]\n",
    "    #for i in range(xy_cord.shape[0]):\n",
    "        #for j in range(i+1,xy_cord.shape[0]):\n",
    "               # p_dist.append( abs(round(xy_cord[i,0]) - round(xy_cord[j,0] )) )\n",
    "               # p_dist.append( abs(round(xy_cord[i,1]) - round(xy_cord[j,1] ) ) )\n",
    "    #return p_dist \n",
    "\n",
    "\n",
    "\n",
    "#### updated methods with selected fiducial points; this reduce 78 poins to 50  \n",
    "''' \n",
    "feature selection : 1. remove  points P64 - 70 and P72 - 78  \n",
    "                 2. remove P51,53,55,57,58,60, 61, 63\n",
    "                 3. calculate midpints between  upper and lower eyebrow lines and replace P20-22,P24-16 with midpoints               \n",
    "So there is in total 50 points left, which gives 50*49 pairwise distance \n",
    "'''\n",
    "\n",
    "def pairwise_dist_cal_updt(mt):\n",
    "    t0 = time.time()\n",
    "    p_dist_updt =np.zeros([len(mt),1225,2])\n",
    "    n = len(mt)\n",
    "    for k in range(n):\n",
    "        xy_cord = mt[k]\n",
    "\n",
    "        xy_cord_cpy  = xy_cord\n",
    "        \n",
    "        #  eye_brow midpoint \n",
    "        to_add_brl = (xy_cord_cpy[19:22]+ xy_cord_cpy[23:26])/2\n",
    "        to_add_brr = (xy_cord_cpy[27:30]+ xy_cord_cpy[31:34])/2\n",
    "\n",
    "        # index to remove \n",
    "        rm_idx = np.append(np.arange(63,70), np.arange(71,78))\n",
    "        rm_idx = np.append(rm_idx,np.arange(50,57,2) )\n",
    "        rm_idx = np.append(rm_idx, [57,59,60,62])\n",
    "        rm_idx = np.append(rm_idx, np.arange(19,22))\n",
    "        rm_idx = np.append(rm_idx, np.arange(23,26))\n",
    "        rm_idx = np.append(rm_idx, np.arange(27,30))\n",
    "        rm_idx = np.append(rm_idx, np.arange(31,34))\n",
    "        xy_cord = np.delete(xy_cord, rm_idx, axis = 0) \n",
    "        xy_cord = np.concatenate((xy_cord,to_add_brl,to_add_brr))\n",
    "        \n",
    "\n",
    "        dist_h = [] \n",
    "        dist_v = []\n",
    "        for i in range(xy_cord.shape[0]):\n",
    "            for j in range(i+1,xy_cord.shape[0]):\n",
    "                dist_h.append( abs(round(xy_cord[i,0]) - round(xy_cord[j,0] )) )\n",
    "                dist_v.append( abs(round(xy_cord[i,1]) - round(xy_cord[j,1] ) ) )\n",
    "        p_dist_updt[k,:,0]= dist_h\n",
    "        p_dist_updt[k,:,1]= dist_v\n",
    "    \n",
    "\n",
    "    print(\"feature constructions takes %s seconds\" % (time.time() - t0))\n",
    "    return p_dist_updt.reshape([n,2450])\n"
   ]
  },
  {
   "cell_type": "code",
   "execution_count": 19,
   "metadata": {},
   "outputs": [
    {
     "name": "stdout",
     "output_type": "stream",
     "text": [
      "training: \n",
      "training and testing feature constructions 18.035425901412964 seconds\n"
     ]
    }
   ],
   "source": [
    "print(\"training: \")\n",
    "train_data = pairwise_dist_cal_updt(train_mat[0:])"
   ]
  },
  {
   "cell_type": "code",
   "execution_count": 21,
   "metadata": {},
   "outputs": [
    {
     "name": "stdout",
     "output_type": "stream",
     "text": [
      "testing: \n",
      "training and testing feature constructions 4.777792930603027 seconds\n"
     ]
    }
   ],
   "source": [
    "print(\"testing: \")\n",
    "test_data = pairwise_dist_cal_updt(test_mat[0:])"
   ]
  },
  {
   "cell_type": "code",
   "execution_count": null,
   "metadata": {},
   "outputs": [],
   "source": [
    "accuracy_score(pred_xgb_2,test_labels_xgb )"
   ]
  },
  {
   "cell_type": "markdown",
   "metadata": {},
   "source": [
    "# XGB model "
   ]
  },
  {
   "cell_type": "code",
   "execution_count": 55,
   "metadata": {},
   "outputs": [],
   "source": [
    "from xgboost.sklearn import XGBClassifier"
   ]
  },
  {
   "cell_type": "code",
   "execution_count": 58,
   "metadata": {},
   "outputs": [],
   "source": [
    "train_labels_xgb = [ x  - 1 for x in train_labels ] \n",
    "test_labels_xgb = [ x  - 1 for x in test_labels ] "
   ]
  },
  {
   "cell_type": "code",
   "execution_count": 60,
   "metadata": {},
   "outputs": [
    {
     "name": "stdout",
     "output_type": "stream",
     "text": [
      "training  model takes 1074.819 seconds\n"
     ]
    }
   ],
   "source": [
    "start_time=time.time()\n",
    "\n",
    "xgb = XGBClassifier(\n",
    " learning_rate =0.1,\n",
    " n_estimators= 200,\n",
    " max_depth=5,\n",
    " min_child_weight=1,\n",
    " gamma=0,\n",
    " subsample=0.8,\n",
    " colsample_bytree=0.8,\n",
    " objective= 'multi:softmax',  # for multi-labels classification \n",
    " num_class = 22, \n",
    " scale_pos_weight=1,\n",
    " seed=123)\n",
    "\n",
    "xgb.fit(train_data, train_labels_xgb ,eval_metric='auc')\n",
    "print(\"training  model takes %s seconds\" % round((time.time() - start_time),3))"
   ]
  },
  {
   "cell_type": "code",
   "execution_count": 65,
   "metadata": {},
   "outputs": [
    {
     "name": "stdout",
     "output_type": "stream",
     "text": [
      "testing model takes 0.71 seconds\n"
     ]
    }
   ],
   "source": [
    "start_time = time.time()\n",
    "pred_xgb = xgb.predict(test_data)\n",
    "print(\"testing model takes %s seconds\" % round((time.time() - start_time),3))"
   ]
  },
  {
   "cell_type": "code",
   "execution_count": 68,
   "metadata": {},
   "outputs": [
    {
     "name": "stdout",
     "output_type": "stream",
     "text": [
      "Test accuracy is 47.4 percent\n"
     ]
    }
   ],
   "source": [
    "acc_xgb = accuracy_score(pred_xgb,test_labels_xgb )\n",
    "print(\"Test accuracy is %s percent\" %(acc_xgb*100))"
   ]
  },
  {
   "cell_type": "markdown",
   "metadata": {},
   "source": [
    "Try other leaner rate and n_trees"
   ]
  },
  {
   "cell_type": "code",
   "execution_count": 96,
   "metadata": {},
   "outputs": [],
   "source": [
    "xgb_2 = XGBClassifier(\n",
    " learning_rate =0.01,\n",
    " n_estimators= 500,\n",
    " max_depth= 3 ,\n",
    " min_child_weight=1,\n",
    " gamma=0,\n",
    " subsample=0.8,\n",
    " colsample_bytree=0.8,\n",
    " objective= 'multi:softmax',  # for multi-labels classification \n",
    " num_class = 22, \n",
    " scale_pos_weight=1,\n",
    " seed=123)"
   ]
  },
  {
   "cell_type": "code",
   "execution_count": 97,
   "metadata": {},
   "outputs": [
    {
     "data": {
      "text/plain": [
       "XGBClassifier(base_score=0.5, booster='gbtree', colsample_bylevel=1,\n",
       "              colsample_bynode=1, colsample_bytree=0.8, gamma=0,\n",
       "              learning_rate=0.01, max_delta_step=0, max_depth=3,\n",
       "              min_child_weight=1, missing=None, n_estimators=500, n_jobs=1,\n",
       "              nthread=None, num_class=22, objective='multi:softprob',\n",
       "              random_state=0, reg_alpha=0, reg_lambda=1, scale_pos_weight=1,\n",
       "              seed=123, silent=None, subsample=0.8, verbosity=1)"
      ]
     },
     "execution_count": 97,
     "metadata": {},
     "output_type": "execute_result"
    }
   ],
   "source": [
    "start_time = time.time()\n",
    "xgb_2.fit(train_data, train_labels_xgb ,eval_metric='auc')\n",
    "print(\"training  model takes %s seconds\" % round((time.time() - start_time),3))"
   ]
  },
  {
   "cell_type": "code",
   "execution_count": 115,
   "metadata": {},
   "outputs": [
    {
     "name": "stdout",
     "output_type": "stream",
     "text": [
      "Test accuracy is 98.15 percent\n"
     ]
    }
   ],
   "source": [
    "acc_sc_tra = accuracy_score(pred_xgb_2_train,train_labels_xgb )\n",
    "print(\"Train accuracy is %s percent\" %(acc_sc_tra *100))"
   ]
  },
  {
   "cell_type": "code",
   "execution_count": 100,
   "metadata": {},
   "outputs": [
    {
     "name": "stdout",
     "output_type": "stream",
     "text": [
      "testing model takes 1.546 seconds\n"
     ]
    }
   ],
   "source": [
    "start_time = time.time()\n",
    "pred_xgb_2 = xgb_2.predict(test_data)\n",
    "print(\"testing model takes %s seconds\" % round((time.time() - start_time),3))"
   ]
  },
  {
   "cell_type": "code",
   "execution_count": 113,
   "metadata": {},
   "outputs": [],
   "source": [
    "pred_xgb_2_train =  xgb_2.predict(train_data)"
   ]
  },
  {
   "cell_type": "markdown",
   "metadata": {},
   "source": [
    "# NN model "
   ]
  },
  {
   "cell_type": "code",
   "execution_count": 32,
   "metadata": {},
   "outputs": [],
   "source": [
    "X = train_data\n",
    "Y = train_label_cat"
   ]
  },
  {
   "cell_type": "code",
   "execution_count": 126,
   "metadata": {},
   "outputs": [],
   "source": [
    "input_shape = [2450] \n",
    "input_layer = Input(input_shape)\n",
    "x = BatchNormalization()(input_layer) \n",
    "x = Dense(22*20,activation='relu',kernel_initializer=initializers.glorot_normal(seed=4))(x)\n",
    "x = Dropout(0.25)(x)\n",
    "x = BatchNormalization()(x) \n",
    "x = Dense(22*10,activation='relu',kernel_initializer=initializers.glorot_normal(seed=4))(x)\n",
    "x = Dropout(0.25)(x)\n",
    "x = Dense(22*6,activation='relu',kernel_initializer=initializers.glorot_normal(seed=4))(x)\n",
    "x = Dropout(0.25)(x)\n",
    "x = Dense(22*2,activation='relu',kernel_initializer=initializers.glorot_normal(seed=4))(x)\n",
    "output_layer = Dense(22,activation='softmax',kernel_initializer=initializers.glorot_normal(seed=4))(x) \n",
    "model = Model(input_layer,output_layer)"
   ]
  },
  {
   "cell_type": "code",
   "execution_count": 127,
   "metadata": {},
   "outputs": [
    {
     "name": "stdout",
     "output_type": "stream",
     "text": [
      "Epoch 1/100\n",
      "2000/2000 [==============================] - 3s 1ms/step - loss: 3.0529 - accuracy: 0.0985\n",
      "Epoch 2/100\n",
      "2000/2000 [==============================] - 2s 909us/step - loss: 2.6859 - accuracy: 0.1805\n",
      "Epoch 3/100\n",
      "2000/2000 [==============================] - 2s 859us/step - loss: 2.3663 - accuracy: 0.2430\n",
      "Epoch 4/100\n",
      "2000/2000 [==============================] - 2s 920us/step - loss: 2.1117 - accuracy: 0.3240\n",
      "Epoch 5/100\n",
      "2000/2000 [==============================] - 2s 1ms/step - loss: 2.0121 - accuracy: 0.3495\n",
      "Epoch 6/100\n",
      "2000/2000 [==============================] - 2s 1ms/step - loss: 1.7988 - accuracy: 0.4005\n",
      "Epoch 7/100\n",
      "2000/2000 [==============================] - 2s 1ms/step - loss: 1.7288 - accuracy: 0.4230\n",
      "Epoch 8/100\n",
      "2000/2000 [==============================] - 2s 1ms/step - loss: 1.6655 - accuracy: 0.4445\n",
      "Epoch 9/100\n",
      "2000/2000 [==============================] - 2s 1ms/step - loss: 1.5426 - accuracy: 0.4745\n",
      "Epoch 10/100\n",
      "2000/2000 [==============================] - 2s 1ms/step - loss: 1.5484 - accuracy: 0.4765\n",
      "Epoch 11/100\n",
      "2000/2000 [==============================] - 2s 820us/step - loss: 1.4704 - accuracy: 0.5025\n",
      "Epoch 12/100\n",
      "2000/2000 [==============================] - 2s 858us/step - loss: 1.4005 - accuracy: 0.5345\n",
      "Epoch 13/100\n",
      "2000/2000 [==============================] - 2s 917us/step - loss: 1.3527 - accuracy: 0.5360\n",
      "Epoch 14/100\n",
      "2000/2000 [==============================] - 2s 921us/step - loss: 1.3314 - accuracy: 0.5450\n",
      "Epoch 15/100\n",
      "2000/2000 [==============================] - 2s 918us/step - loss: 1.3508 - accuracy: 0.5320\n",
      "Epoch 16/100\n",
      "2000/2000 [==============================] - 2s 931us/step - loss: 1.2606 - accuracy: 0.5740\n",
      "Epoch 17/100\n",
      "2000/2000 [==============================] - 2s 954us/step - loss: 1.2482 - accuracy: 0.5765\n",
      "Epoch 18/100\n",
      "2000/2000 [==============================] - 2s 1ms/step - loss: 1.1849 - accuracy: 0.5980\n",
      "Epoch 19/100\n",
      "2000/2000 [==============================] - 2s 840us/step - loss: 1.1754 - accuracy: 0.6040\n",
      "Epoch 20/100\n",
      "2000/2000 [==============================] - 2s 941us/step - loss: 1.1311 - accuracy: 0.6055\n",
      "Epoch 21/100\n",
      "2000/2000 [==============================] - 2s 817us/step - loss: 1.1277 - accuracy: 0.6070\n",
      "Epoch 22/100\n",
      "2000/2000 [==============================] - 2s 769us/step - loss: 1.1193 - accuracy: 0.6010\n",
      "Epoch 23/100\n",
      "2000/2000 [==============================] - 2s 836us/step - loss: 1.0977 - accuracy: 0.6265\n",
      "Epoch 24/100\n",
      "2000/2000 [==============================] - 2s 824us/step - loss: 1.0538 - accuracy: 0.6380\n",
      "Epoch 25/100\n",
      "2000/2000 [==============================] - 2s 881us/step - loss: 1.0279 - accuracy: 0.6530\n",
      "Epoch 26/100\n",
      "2000/2000 [==============================] - 2s 817us/step - loss: 1.0385 - accuracy: 0.6385\n",
      "Epoch 27/100\n",
      "2000/2000 [==============================] - 2s 798us/step - loss: 0.9449 - accuracy: 0.6715\n",
      "Epoch 28/100\n",
      "2000/2000 [==============================] - 2s 1ms/step - loss: 0.9089 - accuracy: 0.6865\n",
      "Epoch 29/100\n",
      "2000/2000 [==============================] - 2s 837us/step - loss: 0.9294 - accuracy: 0.6770\n",
      "Epoch 30/100\n",
      "2000/2000 [==============================] - 3s 2ms/step - loss: 0.9306 - accuracy: 0.6750\n",
      "Epoch 31/100\n",
      "2000/2000 [==============================] - 3s 2ms/step - loss: 0.9257 - accuracy: 0.6815\n",
      "Epoch 32/100\n",
      "2000/2000 [==============================] - 2s 1ms/step - loss: 0.8786 - accuracy: 0.6990\n",
      "Epoch 33/100\n",
      "2000/2000 [==============================] - 2s 951us/step - loss: 0.8756 - accuracy: 0.7010\n",
      "Epoch 34/100\n",
      "2000/2000 [==============================] - 1s 735us/step - loss: 0.8754 - accuracy: 0.7020\n",
      "Epoch 35/100\n",
      "2000/2000 [==============================] - 2s 769us/step - loss: 0.8581 - accuracy: 0.7030\n",
      "Epoch 36/100\n",
      "2000/2000 [==============================] - 1s 742us/step - loss: 0.8280 - accuracy: 0.7105\n",
      "Epoch 37/100\n",
      "2000/2000 [==============================] - 1s 733us/step - loss: 0.8125 - accuracy: 0.7210\n",
      "Epoch 38/100\n",
      "2000/2000 [==============================] - 1s 731us/step - loss: 0.8386 - accuracy: 0.7080\n",
      "Epoch 39/100\n",
      "2000/2000 [==============================] - 1s 737us/step - loss: 0.8213 - accuracy: 0.7265\n",
      "Epoch 40/100\n",
      "2000/2000 [==============================] - 1s 727us/step - loss: 0.7536 - accuracy: 0.7430\n",
      "Epoch 41/100\n",
      "2000/2000 [==============================] - 1s 744us/step - loss: 0.7249 - accuracy: 0.7535\n",
      "Epoch 42/100\n",
      "2000/2000 [==============================] - 1s 728us/step - loss: 0.7426 - accuracy: 0.7380\n",
      "Epoch 43/100\n",
      "2000/2000 [==============================] - 2s 806us/step - loss: 0.7287 - accuracy: 0.7470\n",
      "Epoch 44/100\n",
      "2000/2000 [==============================] - 2s 793us/step - loss: 0.6930 - accuracy: 0.7535\n",
      "Epoch 45/100\n",
      "2000/2000 [==============================] - 3s 1ms/step - loss: 0.6562 - accuracy: 0.7615\n",
      "Epoch 46/100\n",
      "2000/2000 [==============================] - 3s 1ms/step - loss: 0.6737 - accuracy: 0.7715\n",
      "Epoch 47/100\n",
      "2000/2000 [==============================] - 2s 970us/step - loss: 0.6686 - accuracy: 0.7810\n",
      "Epoch 48/100\n",
      "2000/2000 [==============================] - 2s 976us/step - loss: 0.6349 - accuracy: 0.7830\n",
      "Epoch 49/100\n",
      "2000/2000 [==============================] - 3s 1ms/step - loss: 0.6129 - accuracy: 0.7915\n",
      "Epoch 50/100\n",
      "2000/2000 [==============================] - 3s 1ms/step - loss: 0.6602 - accuracy: 0.7745\n",
      "Epoch 51/100\n",
      "2000/2000 [==============================] - 3s 1ms/step - loss: 0.6630 - accuracy: 0.7740\n",
      "Epoch 52/100\n",
      "2000/2000 [==============================] - 2s 1ms/step - loss: 0.6274 - accuracy: 0.7840\n",
      "Epoch 53/100\n",
      "2000/2000 [==============================] - 3s 1ms/step - loss: 0.6272 - accuracy: 0.7855\n",
      "Epoch 54/100\n",
      "2000/2000 [==============================] - 3s 2ms/step - loss: 0.5855 - accuracy: 0.7990\n",
      "Epoch 55/100\n",
      "2000/2000 [==============================] - 2s 1ms/step - loss: 0.5588 - accuracy: 0.8105\n",
      "Epoch 56/100\n",
      "2000/2000 [==============================] - 2s 1ms/step - loss: 0.5393 - accuracy: 0.8100\n",
      "Epoch 57/100\n",
      "2000/2000 [==============================] - 3s 1ms/step - loss: 0.5586 - accuracy: 0.8110\n",
      "Epoch 58/100\n",
      "2000/2000 [==============================] - 3s 2ms/step - loss: 0.5711 - accuracy: 0.8005\n",
      "Epoch 59/100\n",
      "2000/2000 [==============================] - 2s 1ms/step - loss: 0.5400 - accuracy: 0.8095\n",
      "Epoch 60/100\n",
      "2000/2000 [==============================] - 2s 1ms/step - loss: 0.5647 - accuracy: 0.8095\n",
      "Epoch 61/100\n",
      "2000/2000 [==============================] - 2s 1ms/step - loss: 0.5512 - accuracy: 0.8120\n",
      "Epoch 62/100\n",
      "2000/2000 [==============================] - 2s 1ms/step - loss: 0.5687 - accuracy: 0.8090\n",
      "Epoch 63/100\n",
      "2000/2000 [==============================] - 2s 1ms/step - loss: 0.4959 - accuracy: 0.8275\n",
      "Epoch 64/100\n",
      "2000/2000 [==============================] - 2s 1ms/step - loss: 0.4797 - accuracy: 0.8255\n",
      "Epoch 65/100\n",
      "2000/2000 [==============================] - 2s 1ms/step - loss: 0.5126 - accuracy: 0.8275\n",
      "Epoch 66/100\n",
      "2000/2000 [==============================] - 2s 907us/step - loss: 0.4889 - accuracy: 0.8270\n",
      "Epoch 67/100\n",
      "2000/2000 [==============================] - 2s 952us/step - loss: 0.5032 - accuracy: 0.8380\n",
      "Epoch 68/100\n",
      "2000/2000 [==============================] - 2s 908us/step - loss: 0.4741 - accuracy: 0.8425\n",
      "Epoch 69/100\n",
      "2000/2000 [==============================] - 2s 939us/step - loss: 0.4445 - accuracy: 0.8440\n",
      "Epoch 70/100\n",
      "2000/2000 [==============================] - 2s 923us/step - loss: 0.4225 - accuracy: 0.8590\n",
      "Epoch 71/100\n",
      "2000/2000 [==============================] - 2s 1ms/step - loss: 0.4538 - accuracy: 0.8440\n",
      "Epoch 72/100\n",
      "2000/2000 [==============================] - 2s 939us/step - loss: 0.4599 - accuracy: 0.8500\n",
      "Epoch 73/100\n",
      "2000/2000 [==============================] - 2s 1ms/step - loss: 0.4199 - accuracy: 0.8560\n",
      "Epoch 74/100\n",
      "2000/2000 [==============================] - 2s 1000us/step - loss: 0.3957 - accuracy: 0.8570\n",
      "Epoch 75/100\n",
      "2000/2000 [==============================] - 2s 1ms/step - loss: 0.4267 - accuracy: 0.8520\n",
      "Epoch 76/100\n",
      "2000/2000 [==============================] - 3s 1ms/step - loss: 0.4307 - accuracy: 0.8660\n",
      "Epoch 77/100\n",
      "2000/2000 [==============================] - 3s 2ms/step - loss: 0.4199 - accuracy: 0.8615\n",
      "Epoch 78/100\n",
      "2000/2000 [==============================] - 3s 1ms/step - loss: 0.4151 - accuracy: 0.8585\n",
      "Epoch 79/100\n",
      "2000/2000 [==============================] - 2s 1ms/step - loss: 0.4323 - accuracy: 0.8490\n",
      "Epoch 80/100\n",
      "2000/2000 [==============================] - 2s 1ms/step - loss: 0.3866 - accuracy: 0.8630\n",
      "Epoch 81/100\n",
      "2000/2000 [==============================] - 2s 1ms/step - loss: 0.3815 - accuracy: 0.8705\n",
      "Epoch 82/100\n",
      "2000/2000 [==============================] - 2s 999us/step - loss: 0.4028 - accuracy: 0.8695\n",
      "Epoch 83/100\n",
      "2000/2000 [==============================] - 2s 957us/step - loss: 0.4245 - accuracy: 0.8570\n",
      "Epoch 84/100\n",
      "2000/2000 [==============================] - 2s 1ms/step - loss: 0.3733 - accuracy: 0.8815\n",
      "Epoch 85/100\n",
      "2000/2000 [==============================] - 2s 927us/step - loss: 0.3980 - accuracy: 0.8650\n",
      "Epoch 86/100\n",
      "2000/2000 [==============================] - 2s 911us/step - loss: 0.3910 - accuracy: 0.8770\n",
      "Epoch 87/100\n",
      "2000/2000 [==============================] - 2s 849us/step - loss: 0.3542 - accuracy: 0.8785\n",
      "Epoch 88/100\n",
      "2000/2000 [==============================] - 2s 835us/step - loss: 0.3880 - accuracy: 0.8780\n",
      "Epoch 89/100\n",
      "2000/2000 [==============================] - 2s 897us/step - loss: 0.3690 - accuracy: 0.8760\n",
      "Epoch 90/100\n",
      "2000/2000 [==============================] - 2s 955us/step - loss: 0.3297 - accuracy: 0.8895\n",
      "Epoch 91/100\n",
      "2000/2000 [==============================] - 2s 828us/step - loss: 0.3331 - accuracy: 0.8945\n",
      "Epoch 92/100\n",
      "2000/2000 [==============================] - 2s 898us/step - loss: 0.2733 - accuracy: 0.9060\n",
      "Epoch 93/100\n",
      "2000/2000 [==============================] - 2s 859us/step - loss: 0.3003 - accuracy: 0.8940\n",
      "Epoch 94/100\n",
      "2000/2000 [==============================] - 3s 1ms/step - loss: 0.3209 - accuracy: 0.8960\n",
      "Epoch 95/100\n",
      "2000/2000 [==============================] - 2s 1ms/step - loss: 0.3431 - accuracy: 0.8890\n",
      "Epoch 96/100\n",
      "2000/2000 [==============================] - 2s 1ms/step - loss: 0.3300 - accuracy: 0.8940\n",
      "Epoch 97/100\n",
      "2000/2000 [==============================] - 2s 1ms/step - loss: 0.2941 - accuracy: 0.9085\n",
      "Epoch 98/100\n",
      "2000/2000 [==============================] - 2s 1ms/step - loss: 0.3094 - accuracy: 0.8995\n",
      "Epoch 99/100\n",
      "2000/2000 [==============================] - 2s 966us/step - loss: 0.3041 - accuracy: 0.8915\n",
      "Epoch 100/100\n",
      "2000/2000 [==============================] - 2s 985us/step - loss: 0.3032 - accuracy: 0.8930\n",
      "training  model takes 209.942 seconds\n"
     ]
    },
    {
     "data": {
      "image/png": "[encoded data removed]",
      "text/plain": [
       "<Figure size 576x432 with 1 Axes>"
      ]
     },
     "metadata": {
      "needs_background": "light"
     },
     "output_type": "display_data"
    }
   ],
   "source": [
    "start_time = time.time()\n",
    "model.compile(loss='categorical_crossentropy',optimizer = Adam(lr=0.001),metrics=['accuracy'])\n",
    "model_his = model.fit(X,Y,epochs=100)\n",
    "plt.figure(figsize=[8,6])\n",
    "plt.plot(model_his.history['accuracy'],'r',linewidth=1.0)\n",
    "plt.legend(['Training Accuracy'],fontsize=18)\n",
    "plt.xlabel('Epochs ',fontsize=16)\n",
    "plt.ylabel('Accuracy',fontsize=16)\n",
    "plt.title('Accuracy Curves',fontsize=16)\n",
    "print(\"training  model takes %s seconds\" % round((time.time() - start_time),3))"
   ]
  },
  {
   "cell_type": "code",
   "execution_count": 128,
   "metadata": {},
   "outputs": [
    {
     "name": "stdout",
     "output_type": "stream",
     "text": [
      "Test accuracy is 52.400000000000006 percent\n",
      "testing model takes 0.844 seconds\n"
     ]
    }
   ],
   "source": [
    "t0 = time.time()\n",
    "pred = model.predict(test_data)\n",
    "pred_lst = [] \n",
    "for i in range(len(pred)):\n",
    "    arr = pred[i]\n",
    "    idx = np.argwhere(arr == np.max(arr))\n",
    "    pred_lst.append(idx[0][0])\n",
    "tst_labl = np.argmax(test_label_cat, axis=-1)\n",
    "acc = accuracy_score(pred_lst, tst_labl)\n",
    "print(\"Test accuracy is %s percent\" %(acc*100))\n",
    "print(\"testing model takes %s seconds\" % round((time.time() - t0),3))"
   ]
  },
  {
   "cell_type": "code",
   "execution_count": 129,
   "metadata": {},
   "outputs": [],
   "source": [
    "input_shape = [2450] \n",
    "input_layer = Input(input_shape)\n",
    "x = BatchNormalization(momentum = 0.88)(input_layer) \n",
    "x = Dense(22*10,activation='relu',kernel_initializer=initializers.glorot_normal(seed=4))(x)\n",
    "x = Dropout(0.25)(x)\n",
    "x = BatchNormalization()(x) \n",
    "x = Dense(22*8,activation='relu',kernel_initializer=initializers.glorot_normal(seed=4))(x)\n",
    "x = Dropout(0.25)(x)\n",
    "x = Dense(22*4,activation='relu',kernel_initializer=initializers.glorot_normal(seed=4))(x)\n",
    "x = Dropout(0.25)(x)\n",
    "x = Dense(22*2,activation='relu',kernel_initializer=initializers.glorot_normal(seed=4))(x)\n",
    "output_layer = Dense(22,activation='softmax',kernel_initializer=initializers.glorot_normal(seed=4))(x) \n",
    "model2 = Model(input_layer,output_layer)"
   ]
  },
  {
   "cell_type": "code",
   "execution_count": 130,
   "metadata": {},
   "outputs": [
    {
     "name": "stdout",
     "output_type": "stream",
     "text": [
      "Epoch 1/100\n",
      "2000/2000 [==============================] - 2s 979us/step - loss: 3.0595 - accuracy: 0.0820\n",
      "Epoch 2/100\n",
      "2000/2000 [==============================] - 1s 477us/step - loss: 2.7241 - accuracy: 0.1575\n",
      "Epoch 3/100\n",
      "2000/2000 [==============================] - 1s 499us/step - loss: 2.4446 - accuracy: 0.2295\n",
      "Epoch 4/100\n",
      "2000/2000 [==============================] - 1s 676us/step - loss: 2.1716 - accuracy: 0.3045\n",
      "Epoch 5/100\n",
      "2000/2000 [==============================] - 1s 551us/step - loss: 2.0197 - accuracy: 0.3385\n",
      "Epoch 6/100\n",
      "2000/2000 [==============================] - 1s 572us/step - loss: 1.8954 - accuracy: 0.3710\n",
      "Epoch 7/100\n",
      "2000/2000 [==============================] - 1s 600us/step - loss: 1.8180 - accuracy: 0.3970\n",
      "Epoch 8/100\n",
      "2000/2000 [==============================] - 2s 1ms/step - loss: 1.7580 - accuracy: 0.4250\n",
      "Epoch 9/100\n",
      "2000/2000 [==============================] - 1s 576us/step - loss: 1.6953 - accuracy: 0.4280\n",
      "Epoch 10/100\n",
      "2000/2000 [==============================] - 1s 498us/step - loss: 1.5777 - accuracy: 0.4610\n",
      "Epoch 11/100\n",
      "2000/2000 [==============================] - 1s 460us/step - loss: 1.5429 - accuracy: 0.4900\n",
      "Epoch 12/100\n",
      "2000/2000 [==============================] - 1s 494us/step - loss: 1.4990 - accuracy: 0.4865\n",
      "Epoch 13/100\n",
      "2000/2000 [==============================] - 1s 673us/step - loss: 1.5019 - accuracy: 0.4955\n",
      "Epoch 14/100\n",
      "2000/2000 [==============================] - 1s 576us/step - loss: 1.4658 - accuracy: 0.4980\n",
      "Epoch 15/100\n",
      "2000/2000 [==============================] - 1s 513us/step - loss: 1.4290 - accuracy: 0.5060\n",
      "Epoch 16/100\n",
      "2000/2000 [==============================] - 1s 512us/step - loss: 1.4187 - accuracy: 0.5155\n",
      "Epoch 17/100\n",
      "2000/2000 [==============================] - 1s 502us/step - loss: 1.3351 - accuracy: 0.5440\n",
      "Epoch 18/100\n",
      "2000/2000 [==============================] - 1s 513us/step - loss: 1.3328 - accuracy: 0.5485\n",
      "Epoch 19/100\n",
      "2000/2000 [==============================] - 1s 489us/step - loss: 1.2941 - accuracy: 0.5425\n",
      "Epoch 20/100\n",
      "2000/2000 [==============================] - 1s 564us/step - loss: 1.2771 - accuracy: 0.5710\n",
      "Epoch 21/100\n",
      "2000/2000 [==============================] - 1s 735us/step - loss: 1.2435 - accuracy: 0.5705\n",
      "Epoch 22/100\n",
      "2000/2000 [==============================] - 1s 453us/step - loss: 1.2099 - accuracy: 0.5800\n",
      "Epoch 23/100\n",
      "2000/2000 [==============================] - 1s 525us/step - loss: 1.2285 - accuracy: 0.5840\n",
      "Epoch 24/100\n",
      "2000/2000 [==============================] - 1s 481us/step - loss: 1.2098 - accuracy: 0.5900\n",
      "Epoch 25/100\n",
      "2000/2000 [==============================] - 1s 520us/step - loss: 1.1601 - accuracy: 0.5970\n",
      "Epoch 26/100\n",
      "2000/2000 [==============================] - 1s 437us/step - loss: 1.1339 - accuracy: 0.61351s - los\n",
      "Epoch 27/100\n",
      "2000/2000 [==============================] - 1s 406us/step - loss: 1.1739 - accuracy: 0.5995\n",
      "Epoch 28/100\n",
      "2000/2000 [==============================] - 1s 457us/step - loss: 1.1355 - accuracy: 0.6145\n",
      "Epoch 29/100\n",
      "2000/2000 [==============================] - 1s 429us/step - loss: 1.1257 - accuracy: 0.6210\n",
      "Epoch 30/100\n",
      "2000/2000 [==============================] - 1s 392us/step - loss: 1.0542 - accuracy: 0.6335\n",
      "Epoch 31/100\n",
      "2000/2000 [==============================] - 1s 379us/step - loss: 1.0543 - accuracy: 0.6280\n",
      "Epoch 32/100\n",
      "2000/2000 [==============================] - 1s 451us/step - loss: 1.0403 - accuracy: 0.6440\n",
      "Epoch 33/100\n",
      "2000/2000 [==============================] - 1s 444us/step - loss: 1.0090 - accuracy: 0.6635\n",
      "Epoch 34/100\n",
      "2000/2000 [==============================] - 1s 384us/step - loss: 1.0615 - accuracy: 0.6285\n",
      "Epoch 35/100\n",
      "2000/2000 [==============================] - 1s 380us/step - loss: 0.9469 - accuracy: 0.6800\n",
      "Epoch 36/100\n",
      "2000/2000 [==============================] - 1s 369us/step - loss: 0.9668 - accuracy: 0.6710\n",
      "Epoch 37/100\n",
      "2000/2000 [==============================] - 1s 394us/step - loss: 0.9375 - accuracy: 0.6750\n",
      "Epoch 38/100\n",
      "2000/2000 [==============================] - 1s 396us/step - loss: 0.9546 - accuracy: 0.6675\n",
      "Epoch 39/100\n",
      "2000/2000 [==============================] - 1s 379us/step - loss: 0.9684 - accuracy: 0.6800\n",
      "Epoch 40/100\n",
      "2000/2000 [==============================] - 1s 368us/step - loss: 0.9604 - accuracy: 0.6715\n",
      "Epoch 41/100\n",
      "2000/2000 [==============================] - 1s 357us/step - loss: 0.9103 - accuracy: 0.6860\n",
      "Epoch 42/100\n",
      "2000/2000 [==============================] - 1s 368us/step - loss: 0.9036 - accuracy: 0.6975\n",
      "Epoch 43/100\n",
      "2000/2000 [==============================] - 1s 361us/step - loss: 0.9089 - accuracy: 0.6940\n",
      "Epoch 44/100\n",
      "2000/2000 [==============================] - 1s 369us/step - loss: 0.8919 - accuracy: 0.6730\n",
      "Epoch 45/100\n",
      "2000/2000 [==============================] - 1s 371us/step - loss: 0.8685 - accuracy: 0.6970\n",
      "Epoch 46/100\n",
      "2000/2000 [==============================] - 1s 407us/step - loss: 0.8901 - accuracy: 0.7005\n",
      "Epoch 47/100\n",
      "2000/2000 [==============================] - 1s 401us/step - loss: 0.8926 - accuracy: 0.6890\n",
      "Epoch 48/100\n",
      "2000/2000 [==============================] - 1s 500us/step - loss: 0.8862 - accuracy: 0.6995\n",
      "Epoch 49/100\n",
      "2000/2000 [==============================] - 1s 367us/step - loss: 0.8689 - accuracy: 0.6910\n",
      "Epoch 50/100\n",
      "2000/2000 [==============================] - 1s 378us/step - loss: 0.7855 - accuracy: 0.7380\n",
      "Epoch 51/100\n",
      "2000/2000 [==============================] - 1s 361us/step - loss: 0.8092 - accuracy: 0.7230\n",
      "Epoch 52/100\n",
      "2000/2000 [==============================] - 1s 381us/step - loss: 0.7991 - accuracy: 0.7195\n",
      "Epoch 53/100\n",
      "2000/2000 [==============================] - 1s 382us/step - loss: 0.7619 - accuracy: 0.7420\n",
      "Epoch 54/100\n",
      "2000/2000 [==============================] - 1s 375us/step - loss: 0.7942 - accuracy: 0.7260\n",
      "Epoch 55/100\n",
      "2000/2000 [==============================] - 1s 382us/step - loss: 0.7489 - accuracy: 0.7460\n",
      "Epoch 56/100\n",
      "2000/2000 [==============================] - 1s 373us/step - loss: 0.7600 - accuracy: 0.7370\n",
      "Epoch 57/100\n",
      "2000/2000 [==============================] - 1s 384us/step - loss: 0.7641 - accuracy: 0.7380\n",
      "Epoch 58/100\n",
      "2000/2000 [==============================] - 1s 382us/step - loss: 0.7701 - accuracy: 0.7395\n",
      "Epoch 59/100\n",
      "2000/2000 [==============================] - 1s 376us/step - loss: 0.7360 - accuracy: 0.7525\n",
      "Epoch 60/100\n",
      "2000/2000 [==============================] - 1s 348us/step - loss: 0.6973 - accuracy: 0.7655\n",
      "Epoch 61/100\n",
      "2000/2000 [==============================] - 1s 367us/step - loss: 0.6461 - accuracy: 0.7735\n",
      "Epoch 62/100\n",
      "2000/2000 [==============================] - 1s 359us/step - loss: 0.6645 - accuracy: 0.7750\n",
      "Epoch 63/100\n",
      "2000/2000 [==============================] - 1s 368us/step - loss: 0.6883 - accuracy: 0.7700\n",
      "Epoch 64/100\n",
      "2000/2000 [==============================] - 1s 361us/step - loss: 0.6795 - accuracy: 0.7710\n",
      "Epoch 65/100\n",
      "2000/2000 [==============================] - 1s 368us/step - loss: 0.6812 - accuracy: 0.7670\n",
      "Epoch 66/100\n",
      "2000/2000 [==============================] - 1s 372us/step - loss: 0.6516 - accuracy: 0.7760\n",
      "Epoch 67/100\n",
      "2000/2000 [==============================] - 1s 354us/step - loss: 0.7090 - accuracy: 0.7490\n",
      "Epoch 68/100\n",
      "2000/2000 [==============================] - 1s 360us/step - loss: 0.6413 - accuracy: 0.7860\n",
      "Epoch 69/100\n",
      "2000/2000 [==============================] - 1s 356us/step - loss: 0.6740 - accuracy: 0.7670\n",
      "Epoch 70/100\n",
      "2000/2000 [==============================] - 1s 364us/step - loss: 0.6338 - accuracy: 0.7865\n",
      "Epoch 71/100\n",
      "2000/2000 [==============================] - 1s 358us/step - loss: 0.6280 - accuracy: 0.7880\n",
      "Epoch 72/100\n",
      "2000/2000 [==============================] - 1s 369us/step - loss: 0.6056 - accuracy: 0.7895\n",
      "Epoch 73/100\n",
      "2000/2000 [==============================] - 1s 351us/step - loss: 0.6123 - accuracy: 0.7740\n",
      "Epoch 74/100\n",
      "2000/2000 [==============================] - 1s 370us/step - loss: 0.6309 - accuracy: 0.7785\n",
      "Epoch 75/100\n",
      "2000/2000 [==============================] - 1s 361us/step - loss: 0.5931 - accuracy: 0.7910\n",
      "Epoch 76/100\n",
      "2000/2000 [==============================] - 1s 365us/step - loss: 0.5721 - accuracy: 0.8010\n",
      "Epoch 77/100\n",
      "2000/2000 [==============================] - 1s 357us/step - loss: 0.6132 - accuracy: 0.7900\n",
      "Epoch 78/100\n",
      "2000/2000 [==============================] - 1s 362us/step - loss: 0.5771 - accuracy: 0.8030\n",
      "Epoch 79/100\n",
      "2000/2000 [==============================] - 1s 352us/step - loss: 0.5568 - accuracy: 0.8035\n",
      "Epoch 80/100\n",
      "2000/2000 [==============================] - 1s 355us/step - loss: 0.5645 - accuracy: 0.8015\n",
      "Epoch 81/100\n",
      "2000/2000 [==============================] - 1s 459us/step - loss: 0.5923 - accuracy: 0.8025\n",
      "Epoch 82/100\n",
      "2000/2000 [==============================] - 1s 518us/step - loss: 0.5361 - accuracy: 0.8200\n",
      "Epoch 83/100\n",
      "2000/2000 [==============================] - 1s 451us/step - loss: 0.5231 - accuracy: 0.8200\n",
      "Epoch 84/100\n",
      "2000/2000 [==============================] - 1s 425us/step - loss: 0.5318 - accuracy: 0.8135\n",
      "Epoch 85/100\n",
      "2000/2000 [==============================] - 1s 412us/step - loss: 0.5263 - accuracy: 0.8155\n",
      "Epoch 86/100\n",
      "2000/2000 [==============================] - 1s 422us/step - loss: 0.5555 - accuracy: 0.8125\n",
      "Epoch 87/100\n",
      "2000/2000 [==============================] - 1s 438us/step - loss: 0.5357 - accuracy: 0.8215\n",
      "Epoch 88/100\n",
      "2000/2000 [==============================] - 1s 475us/step - loss: 0.5030 - accuracy: 0.8300\n",
      "Epoch 89/100\n",
      "2000/2000 [==============================] - 1s 462us/step - loss: 0.5311 - accuracy: 0.8115\n",
      "Epoch 90/100\n",
      "2000/2000 [==============================] - 1s 431us/step - loss: 0.4658 - accuracy: 0.8375\n",
      "Epoch 91/100\n",
      "2000/2000 [==============================] - 1s 387us/step - loss: 0.5081 - accuracy: 0.8305\n",
      "Epoch 92/100\n",
      "2000/2000 [==============================] - 1s 387us/step - loss: 0.5035 - accuracy: 0.8290\n",
      "Epoch 93/100\n",
      "2000/2000 [==============================] - 1s 436us/step - loss: 0.4983 - accuracy: 0.8310\n",
      "Epoch 94/100\n",
      "2000/2000 [==============================] - 1s 371us/step - loss: 0.5443 - accuracy: 0.8235\n",
      "Epoch 95/100\n",
      "2000/2000 [==============================] - 1s 442us/step - loss: 0.4805 - accuracy: 0.8440\n",
      "Epoch 96/100\n",
      "2000/2000 [==============================] - 1s 387us/step - loss: 0.4330 - accuracy: 0.8625\n",
      "Epoch 97/100\n",
      "2000/2000 [==============================] - 1s 380us/step - loss: 0.4566 - accuracy: 0.8440\n",
      "Epoch 98/100\n",
      "2000/2000 [==============================] - 1s 346us/step - loss: 0.4458 - accuracy: 0.8465\n",
      "Epoch 99/100\n",
      "2000/2000 [==============================] - 1s 413us/step - loss: 0.4432 - accuracy: 0.8465\n",
      "Epoch 100/100\n",
      "2000/2000 [==============================] - 1s 366us/step - loss: 0.4234 - accuracy: 0.8510\n",
      "training  model takes 91.207 seconds\n"
     ]
    },
    {
     "data": {
      "image/png": "[encoded data removed]",
      "text/plain": [
       "<Figure size 576x432 with 1 Axes>"
      ]
     },
     "metadata": {
      "needs_background": "light"
     },
     "output_type": "display_data"
    }
   ],
   "source": [
    "start_time = time.time()\n",
    "model2.compile(loss='categorical_crossentropy',optimizer = Adam(lr=0.001),metrics=['accuracy'])\n",
    "model_his = model2.fit(X,Y,epochs=100)\n",
    "plt.figure(figsize=[8,6])\n",
    "plt.plot(model_his.history['accuracy'],'r',linewidth=1.0)\n",
    "plt.legend(['Training Accuracy'],fontsize=18)\n",
    "plt.xlabel('Epochs ',fontsize=16)\n",
    "plt.ylabel('Accuracy',fontsize=16)\n",
    "plt.title('Accuracy Curves',fontsize=16)\n",
    "print(\"training  model takes %s seconds\" % round((time.time() - start_time),3))"
   ]
  },
  {
   "cell_type": "code",
   "execution_count": 135,
   "metadata": {},
   "outputs": [
    {
     "name": "stdout",
     "output_type": "stream",
     "text": [
      "Test accuracy is 54.400000000000006 percent\n",
      "testing model takes 0.125 seconds\n"
     ]
    }
   ],
   "source": [
    "t0 = time.time()\n",
    "pred2 = model2.predict(test_data)\n",
    "pred_lst2 = [] \n",
    "for i in range(len(pred2)):\n",
    "    arr = pred2[i]\n",
    "    idx = np.argwhere(arr == np.max(arr))\n",
    "    pred_lst2.append(idx[0][0])\n",
    "tst_labl = np.argmax(test_label_cat, axis=-1)\n",
    "acc = accuracy_score(pred_lst2, tst_labl)\n",
    "print(\"Test accuracy is %s percent\" %(acc*100))\n",
    "print(\"testing model takes %s seconds\" % round((time.time() - t0),3))"
   ]
  },
  {
   "cell_type": "markdown",
   "metadata": {},
   "source": [
    "## Read the testing data "
   ]
  },
  {
   "cell_type": "code",
   "execution_count": null,
   "metadata": {},
   "outputs": [],
   "source": [
    "# read mat file and store coordinates in mat \n",
    "\n",
    "test_dir = os.path.join(root,  '../data/XXXX')  \n",
    "test_path =  os.path.join(test_dir,  \"label.csv\") \n",
    "test_index = pd.read_csv(test_path)\n",
    "test_pt_dir =  os.path.join(test_dir, 'points' )\n",
    "\n",
    "m_test = []\n",
    "for idx in test_index['Index']: \n",
    "    file = \"%04d.mat\"%(idx)\n",
    "    m_test.append( scipy.io.loadmat( os.path.join( test_pt_dir, file ) ))\n"
   ]
  },
  {
   "cell_type": "code",
   "execution_count": null,
   "metadata": {},
   "outputs": [],
   "source": [
    "pairwise_dist_cal_updt(m_test)"
   ]
  }
 ],
 "metadata": {
  "kernelspec": {
   "display_name": "Python 3",
   "language": "python",
   "name": "python3"
  },
  "language_info": {
   "codemirror_mode": {
    "name": "ipython",
    "version": 3
   },
   "file_extension": ".py",
   "mimetype": "text/x-python",
   "name": "python",
   "nbconvert_exporter": "python",
   "pygments_lexer": "ipython3",
   "version": "3.7.4"
  }
 },
 "nbformat": 4,
 "nbformat_minor": 2
}
