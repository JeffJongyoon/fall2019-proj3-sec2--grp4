{
 "cells": [
  {
   "cell_type": "code",
   "execution_count": 1,
   "metadata": {},
   "outputs": [
    {
     "name": "stderr",
     "output_type": "stream",
     "text": [
      "Using TensorFlow backend.\n",
      "/Users/Qiqi/opt/anaconda3/lib/python3.7/site-packages/tensorflow/python/framework/dtypes.py:516: FutureWarning: Passing (type, 1) or '1type' as a synonym of type is deprecated; in a future version of numpy, it will be understood as (type, (1,)) / '(1,)type'.\n",
      "  _np_qint8 = np.dtype([(\"qint8\", np.int8, 1)])\n",
      "/Users/Qiqi/opt/anaconda3/lib/python3.7/site-packages/tensorflow/python/framework/dtypes.py:517: FutureWarning: Passing (type, 1) or '1type' as a synonym of type is deprecated; in a future version of numpy, it will be understood as (type, (1,)) / '(1,)type'.\n",
      "  _np_quint8 = np.dtype([(\"quint8\", np.uint8, 1)])\n",
      "/Users/Qiqi/opt/anaconda3/lib/python3.7/site-packages/tensorflow/python/framework/dtypes.py:518: FutureWarning: Passing (type, 1) or '1type' as a synonym of type is deprecated; in a future version of numpy, it will be understood as (type, (1,)) / '(1,)type'.\n",
      "  _np_qint16 = np.dtype([(\"qint16\", np.int16, 1)])\n",
      "/Users/Qiqi/opt/anaconda3/lib/python3.7/site-packages/tensorflow/python/framework/dtypes.py:519: FutureWarning: Passing (type, 1) or '1type' as a synonym of type is deprecated; in a future version of numpy, it will be understood as (type, (1,)) / '(1,)type'.\n",
      "  _np_quint16 = np.dtype([(\"quint16\", np.uint16, 1)])\n",
      "/Users/Qiqi/opt/anaconda3/lib/python3.7/site-packages/tensorflow/python/framework/dtypes.py:520: FutureWarning: Passing (type, 1) or '1type' as a synonym of type is deprecated; in a future version of numpy, it will be understood as (type, (1,)) / '(1,)type'.\n",
      "  _np_qint32 = np.dtype([(\"qint32\", np.int32, 1)])\n",
      "/Users/Qiqi/opt/anaconda3/lib/python3.7/site-packages/tensorflow/python/framework/dtypes.py:525: FutureWarning: Passing (type, 1) or '1type' as a synonym of type is deprecated; in a future version of numpy, it will be understood as (type, (1,)) / '(1,)type'.\n",
      "  np_resource = np.dtype([(\"resource\", np.ubyte, 1)])\n",
      "/Users/Qiqi/opt/anaconda3/lib/python3.7/site-packages/tensorboard/compat/tensorflow_stub/dtypes.py:541: FutureWarning: Passing (type, 1) or '1type' as a synonym of type is deprecated; in a future version of numpy, it will be understood as (type, (1,)) / '(1,)type'.\n",
      "  _np_qint8 = np.dtype([(\"qint8\", np.int8, 1)])\n",
      "/Users/Qiqi/opt/anaconda3/lib/python3.7/site-packages/tensorboard/compat/tensorflow_stub/dtypes.py:542: FutureWarning: Passing (type, 1) or '1type' as a synonym of type is deprecated; in a future version of numpy, it will be understood as (type, (1,)) / '(1,)type'.\n",
      "  _np_quint8 = np.dtype([(\"quint8\", np.uint8, 1)])\n",
      "/Users/Qiqi/opt/anaconda3/lib/python3.7/site-packages/tensorboard/compat/tensorflow_stub/dtypes.py:543: FutureWarning: Passing (type, 1) or '1type' as a synonym of type is deprecated; in a future version of numpy, it will be understood as (type, (1,)) / '(1,)type'.\n",
      "  _np_qint16 = np.dtype([(\"qint16\", np.int16, 1)])\n",
      "/Users/Qiqi/opt/anaconda3/lib/python3.7/site-packages/tensorboard/compat/tensorflow_stub/dtypes.py:544: FutureWarning: Passing (type, 1) or '1type' as a synonym of type is deprecated; in a future version of numpy, it will be understood as (type, (1,)) / '(1,)type'.\n",
      "  _np_quint16 = np.dtype([(\"quint16\", np.uint16, 1)])\n",
      "/Users/Qiqi/opt/anaconda3/lib/python3.7/site-packages/tensorboard/compat/tensorflow_stub/dtypes.py:545: FutureWarning: Passing (type, 1) or '1type' as a synonym of type is deprecated; in a future version of numpy, it will be understood as (type, (1,)) / '(1,)type'.\n",
      "  _np_qint32 = np.dtype([(\"qint32\", np.int32, 1)])\n",
      "/Users/Qiqi/opt/anaconda3/lib/python3.7/site-packages/tensorboard/compat/tensorflow_stub/dtypes.py:550: FutureWarning: Passing (type, 1) or '1type' as a synonym of type is deprecated; in a future version of numpy, it will be understood as (type, (1,)) / '(1,)type'.\n",
      "  np_resource = np.dtype([(\"resource\", np.ubyte, 1)])\n"
     ]
    }
   ],
   "source": [
    "import os,sys\n",
    "import pandas as pd\n",
    "from sklearn.model_selection import train_test_split\n",
    "import scipy.io\n",
    "import numpy as np \n",
    "from scipy.spatial.distance import pdist\n",
    "import time \n",
    "import math\n",
    "import xgboost as xgb\n",
    "from xgboost.sklearn import XGBClassifier\n",
    "from sklearn.metrics import accuracy_score\n",
    "from sklearn.model_selection import GridSearchCV\n",
    "import keras\n",
    "from keras.utils import to_categorical\n",
    "import matplotlib.pyplot as plt\n",
    "from tensorflow.keras.models import Sequential"
   ]
  },
  {
   "cell_type": "code",
   "execution_count": 2,
   "metadata": {},
   "outputs": [],
   "source": [
    "from keras.layers import Dense, Activation, Flatten, Input, Dropout\n",
    "from keras.layers import BatchNormalization\n",
    "from keras.models import Model\n",
    "from keras import initializers\n",
    "from keras.optimizers import Adam"
   ]
  },
  {
   "cell_type": "code",
   "execution_count": 3,
   "metadata": {},
   "outputs": [],
   "source": [
    "# change the root to your own path \n",
    "root = sys.path[0]\n",
    "train_dir =  os.path.join(root,  '../data/train_set')  \n",
    "train_image_dir =  os.path.join(train_dir, 'images')\n",
    "train_pt_dir =  os.path.join(train_dir, 'points' )\n",
    "train_label_path =  os.path.join(train_dir,  \"label.csv\") "
   ]
  },
  {
   "cell_type": "code",
   "execution_count": 4,
   "metadata": {},
   "outputs": [],
   "source": [
    "info = pd.read_csv(train_label_path)\n",
    "train_idx, test_idx = train_test_split(info['Index'], test_size=0.2, random_state=123)\n",
    "\n",
    "# read mat file and store coordinates in mat \n",
    "m = []\n",
    "for idx in info['Index']: \n",
    "    file = \"%04d.mat\"%(idx)\n",
    "    m.append( scipy.io.loadmat( os.path.join( train_pt_dir, file ) ))\n",
    "\n",
    "mat = [x[[i for i in x.keys() if not i in ['__header__', '__version__', '__globals__']][0]] for x in m]"
   ]
  },
  {
   "cell_type": "markdown",
   "metadata": {},
   "source": [
    "###  train test split"
   ]
  },
  {
   "cell_type": "code",
   "execution_count": 5,
   "metadata": {},
   "outputs": [],
   "source": [
    "train_idx, test_idx = train_test_split(info['Index'], test_size=0.2, random_state=123)"
   ]
  },
  {
   "cell_type": "code",
   "execution_count": 16,
   "metadata": {},
   "outputs": [],
   "source": [
    "train_mat = [ mat[i-1] for i in train_idx ] \n",
    "test_mat = [ mat[i-1] for i in test_idx ] "
   ]
  },
  {
   "cell_type": "code",
   "execution_count": 22,
   "metadata": {},
   "outputs": [],
   "source": [
    "train_labels = info.emotion_idx[train_idx-1]\n",
    "test_labels = info.emotion_idx[test_idx-1]"
   ]
  },
  {
   "cell_type": "code",
   "execution_count": 29,
   "metadata": {},
   "outputs": [],
   "source": [
    "train_label_cat = to_categorical(train_labels)\n",
    "train_label_cat= train_label_cat[:,1:]\n",
    "test_label_cat = to_categorical(test_labels)\n",
    "test_label_cat= test_label_cat[:,1:]"
   ]
  },
  {
   "cell_type": "markdown",
   "metadata": {},
   "source": [
    "### feature extraction  "
   ]
  },
  {
   "cell_type": "code",
   "execution_count": 18,
   "metadata": {},
   "outputs": [],
   "source": [
    "# method 1：  pairwise_dist_cal  \n",
    "#def pairwise_dist_cal(xy_cord):\n",
    "    #p_dist =[]\n",
    "    #for i in range(xy_cord.shape[0]):\n",
    "        #for j in range(i+1,xy_cord.shape[0]):\n",
    "               # p_dist.append( abs(round(xy_cord[i,0]) - round(xy_cord[j,0] )) )\n",
    "               # p_dist.append( abs(round(xy_cord[i,1]) - round(xy_cord[j,1] ) ) )\n",
    "    #return p_dist \n",
    "\n",
    "\n",
    "\n",
    "#### updated methods with selected fiducial points; this reduce 78 poins to 50  \n",
    "''' \n",
    "feature selection : 1. remove  points P64 - 70 and P72 - 78  \n",
    "                 2. remove P51,53,55,57,58,60, 61, 63\n",
    "                 3. calculate midpints between  upper and lower eyebrow lines and replace P20-22,P24-16 with midpoints               \n",
    "So there is in total 50 points left, which gives 50*49 pairwise distance \n",
    "'''\n",
    "\n",
    "def pairwise_dist_cal_updt(mt):\n",
    "    t0 = time.time()\n",
    "    p_dist_updt =np.zeros([len(mt),1225,2])\n",
    "    n = len(mt)\n",
    "    for k in range(n):\n",
    "        xy_cord = mt[k]\n",
    "\n",
    "        xy_cord_cpy  = xy_cord\n",
    "        \n",
    "        #  eye_brow midpoint \n",
    "        to_add_brl = (xy_cord_cpy[19:22]+ xy_cord_cpy[23:26])/2\n",
    "        to_add_brr = (xy_cord_cpy[27:30]+ xy_cord_cpy[31:34])/2\n",
    "\n",
    "        # index to remove \n",
    "        rm_idx = np.append(np.arange(63,70), np.arange(71,78))\n",
    "        rm_idx = np.append(rm_idx,np.arange(50,57,2) )\n",
    "        rm_idx = np.append(rm_idx, [57,59,60,62])\n",
    "        rm_idx = np.append(rm_idx, np.arange(19,22))\n",
    "        rm_idx = np.append(rm_idx, np.arange(23,26))\n",
    "        rm_idx = np.append(rm_idx, np.arange(27,30))\n",
    "        rm_idx = np.append(rm_idx, np.arange(31,34))\n",
    "        xy_cord = np.delete(xy_cord, rm_idx, axis = 0) \n",
    "        xy_cord = np.concatenate((xy_cord,to_add_brl,to_add_brr))\n",
    "        \n",
    "\n",
    "        dist_h = [] \n",
    "        dist_v = []\n",
    "        for i in range(xy_cord.shape[0]):\n",
    "            for j in range(i+1,xy_cord.shape[0]):\n",
    "                dist_h.append( abs(round(xy_cord[i,0]) - round(xy_cord[j,0] )) )\n",
    "                dist_v.append( abs(round(xy_cord[i,1]) - round(xy_cord[j,1] ) ) )\n",
    "        p_dist_updt[k,:,0]= dist_h\n",
    "        p_dist_updt[k,:,1]= dist_v\n",
    "    \n",
    "\n",
    "    print(\"feature constructions takes %s seconds\" % (time.time() - t0))\n",
    "    return p_dist_updt.reshape([n,2450])\n"
   ]
  },
  {
   "cell_type": "code",
   "execution_count": 19,
   "metadata": {},
   "outputs": [
    {
     "name": "stdout",
     "output_type": "stream",
     "text": [
      "training: \n",
      "training and testing feature constructions 18.035425901412964 seconds\n"
     ]
    }
   ],
   "source": [
    "print(\"training: \")\n",
    "train_data = pairwise_dist_cal_updt(train_mat[0:])"
   ]
  },
  {
   "cell_type": "code",
   "execution_count": 21,
   "metadata": {},
   "outputs": [
    {
     "name": "stdout",
     "output_type": "stream",
     "text": [
      "testing: \n",
      "training and testing feature constructions 4.777792930603027 seconds\n"
     ]
    }
   ],
   "source": [
    "print(\"testing: \")\n",
    "test_data = pairwise_dist_cal_updt(test_mat[0:])"
   ]
  },
  {
   "cell_type": "code",
   "execution_count": null,
   "metadata": {},
   "outputs": [],
   "source": [
    "accuracy_score(pred_xgb_2,test_labels_xgb )"
   ]
  },
  {
   "cell_type": "markdown",
   "metadata": {},
   "source": [
    "# XGB model "
   ]
  },
  {
   "cell_type": "code",
   "execution_count": 55,
   "metadata": {},
   "outputs": [],
   "source": [
    "from xgboost.sklearn import XGBClassifier"
   ]
  },
  {
   "cell_type": "code",
   "execution_count": 58,
   "metadata": {},
   "outputs": [],
   "source": [
    "train_labels_xgb = [ x  - 1 for x in train_labels ] \n",
    "test_labels_xgb = [ x  - 1 for x in test_labels ] "
   ]
  },
  {
   "cell_type": "code",
   "execution_count": 60,
   "metadata": {},
   "outputs": [
    {
     "name": "stdout",
     "output_type": "stream",
     "text": [
      "training  model takes 1074.819 seconds\n"
     ]
    }
   ],
   "source": [
    "start_time=time.time()\n",
    "\n",
    "xgb = XGBClassifier(\n",
    " learning_rate =0.1,\n",
    " n_estimators= 200,\n",
    " max_depth=5,\n",
    " min_child_weight=1,\n",
    " gamma=0,\n",
    " subsample=0.8,\n",
    " colsample_bytree=0.8,\n",
    " objective= 'multi:softmax',  # for multi-labels classification \n",
    " num_class = 22, \n",
    " scale_pos_weight=1,\n",
    " seed=123)\n",
    "\n",
    "xgb.fit(train_data, train_labels_xgb ,eval_metric='auc')\n",
    "print(\"training  model takes %s seconds\" % round((time.time() - start_time),3))"
   ]
  },
  {
   "cell_type": "code",
   "execution_count": 65,
   "metadata": {},
   "outputs": [
    {
     "name": "stdout",
     "output_type": "stream",
     "text": [
      "testing model takes 0.71 seconds\n"
     ]
    }
   ],
   "source": [
    "start_time = time.time()\n",
    "pred_xgb = xgb.predict(test_data)\n",
    "print(\"testing model takes %s seconds\" % round((time.time() - start_time),3))"
   ]
  },
  {
   "cell_type": "code",
   "execution_count": 68,
   "metadata": {},
   "outputs": [
    {
     "name": "stdout",
     "output_type": "stream",
     "text": [
      "Test accuracy is 47.4 percent\n"
     ]
    }
   ],
   "source": [
    "acc_xgb = accuracy_score(pred_xgb,test_labels_xgb )\n",
    "print(\"Test accuracy is %s percent\" %(acc_xgb*100))"
   ]
  },
  {
   "cell_type": "markdown",
   "metadata": {},
   "source": [
    "Try other leaner rate and n_trees"
   ]
  },
  {
   "cell_type": "code",
   "execution_count": 96,
   "metadata": {},
   "outputs": [],
   "source": [
    "xgb_2 = XGBClassifier(\n",
    " learning_rate =0.01,\n",
    " n_estimators= 500,\n",
    " max_depth= 3 ,\n",
    " min_child_weight=1,\n",
    " gamma=0,\n",
    " subsample=0.8,\n",
    " colsample_bytree=0.8,\n",
    " objective= 'multi:softmax',  # for multi-labels classification \n",
    " num_class = 22, \n",
    " scale_pos_weight=1,\n",
    " seed=123)"
   ]
  },
  {
   "cell_type": "code",
   "execution_count": 97,
   "metadata": {},
   "outputs": [
    {
     "data": {
      "text/plain": [
       "XGBClassifier(base_score=0.5, booster='gbtree', colsample_bylevel=1,\n",
       "              colsample_bynode=1, colsample_bytree=0.8, gamma=0,\n",
       "              learning_rate=0.01, max_delta_step=0, max_depth=3,\n",
       "              min_child_weight=1, missing=None, n_estimators=500, n_jobs=1,\n",
       "              nthread=None, num_class=22, objective='multi:softprob',\n",
       "              random_state=0, reg_alpha=0, reg_lambda=1, scale_pos_weight=1,\n",
       "              seed=123, silent=None, subsample=0.8, verbosity=1)"
      ]
     },
     "execution_count": 97,
     "metadata": {},
     "output_type": "execute_result"
    }
   ],
   "source": [
    "xgb_2.fit(train_data, train_labels_xgb ,eval_metric='auc')"
   ]
  },
  {
   "cell_type": "code",
   "execution_count": 100,
   "metadata": {},
   "outputs": [
    {
     "name": "stdout",
     "output_type": "stream",
     "text": [
      "testing model takes 1.546 seconds\n"
     ]
    }
   ],
   "source": [
    "start_time = time.time()\n",
    "pred_xgb_2 = xgb_2.predict(test_data)\n",
    "print(\"testing model takes %s seconds\" % round((time.time() - start_time),3))\n"
   ]
  },
  {
   "cell_type": "code",
   "execution_count": 102,
   "metadata": {},
   "outputs": [
    {
     "name": "stdout",
     "output_type": "stream",
     "text": [
      "Test accuracy is 49.2 percent\n"
     ]
    }
   ],
   "source": [
    "acc_sc = accuracy_score(pred_xgb_2,test_labels_xgb )\n",
    "print(\"Test accuracy is %s percent\" %(acc_sc *100))\n"
   ]
  },
  {
   "cell_type": "code",
   "execution_count": null,
   "metadata": {},
   "outputs": [],
   "source": []
  },
  {
   "cell_type": "code",
   "execution_count": null,
   "metadata": {},
   "outputs": [],
   "source": []
  },
  {
   "cell_type": "markdown",
   "metadata": {},
   "source": [
    "# CNN model "
   ]
  },
  {
   "cell_type": "code",
   "execution_count": 32,
   "metadata": {},
   "outputs": [],
   "source": [
    "X = train_data\n",
    "Y = train_label_cat"
   ]
  },
  {
   "cell_type": "code",
   "execution_count": 33,
   "metadata": {},
   "outputs": [],
   "source": [
    "input_shape = [2450] \n",
    "input_layer = Input(input_shape)\n",
    "x = BatchNormalization()(input_layer) \n",
    "x = Dense(22*20,activation='relu',kernel_initializer=initializers.glorot_normal(seed=None))(x)\n",
    "x = Dropout(0.25)(x)\n",
    "x = BatchNormalization()(x) \n",
    "x = Dense(22*10,activation='relu',kernel_initializer=initializers.glorot_normal(seed=None))(x)\n",
    "x = Dropout(0.25)(x)\n",
    "x = Dense(22*6,activation='relu',kernel_initializer=initializers.glorot_normal(seed=None))(x)\n",
    "x = Dropout(0.25)(x)\n",
    "x = Dense(22*2,activation='relu',kernel_initializer=initializers.glorot_normal(seed=None))(x)\n",
    "output_layer = Dense(22,activation='softmax',kernel_initializer=initializers.glorot_normal(seed=None))(x) \n",
    "model = Model(input_layer,output_layer)"
   ]
  },
  {
   "cell_type": "code",
   "execution_count": 34,
   "metadata": {},
   "outputs": [
    {
     "name": "stdout",
     "output_type": "stream",
     "text": [
      "WARNING:tensorflow:From /Users/Qiqi/opt/anaconda3/lib/python3.7/site-packages/keras/backend/tensorflow_backend.py:422: The name tf.global_variables is deprecated. Please use tf.compat.v1.global_variables instead.\n",
      "\n",
      "Epoch 1/100\n",
      "2000/2000 [==============================] - 3s 2ms/step - loss: 2.9830 - accuracy: 0.1120\n",
      "Epoch 2/100\n",
      "2000/2000 [==============================] - 2s 851us/step - loss: 2.5688 - accuracy: 0.1970\n",
      "Epoch 3/100\n",
      "2000/2000 [==============================] - 2s 850us/step - loss: 2.2683 - accuracy: 0.2710\n",
      "Epoch 4/100\n",
      "2000/2000 [==============================] - 2s 1ms/step - loss: 2.1527 - accuracy: 0.2925\n",
      "Epoch 5/100\n",
      "2000/2000 [==============================] - 2s 1ms/step - loss: 1.9536 - accuracy: 0.3700\n",
      "Epoch 6/100\n",
      "2000/2000 [==============================] - 2s 941us/step - loss: 1.8609 - accuracy: 0.3825\n",
      "Epoch 7/100\n",
      "2000/2000 [==============================] - 2s 1ms/step - loss: 1.7398 - accuracy: 0.4190\n",
      "Epoch 8/100\n",
      "2000/2000 [==============================] - 3s 1ms/step - loss: 1.6755 - accuracy: 0.4515\n",
      "Epoch 9/100\n",
      "2000/2000 [==============================] - 3s 1ms/step - loss: 1.5764 - accuracy: 0.4630\n",
      "Epoch 10/100\n",
      "2000/2000 [==============================] - 3s 1ms/step - loss: 1.5189 - accuracy: 0.4905\n",
      "Epoch 11/100\n",
      "2000/2000 [==============================] - 2s 1ms/step - loss: 1.4929 - accuracy: 0.4955\n",
      "Epoch 12/100\n",
      "2000/2000 [==============================] - 2s 1ms/step - loss: 1.4274 - accuracy: 0.5065\n",
      "Epoch 13/100\n",
      "2000/2000 [==============================] - 3s 1ms/step - loss: 1.3726 - accuracy: 0.5320\n",
      "Epoch 14/100\n",
      "2000/2000 [==============================] - 2s 987us/step - loss: 1.3441 - accuracy: 0.5400\n",
      "Epoch 15/100\n",
      "2000/2000 [==============================] - 2s 1ms/step - loss: 1.3144 - accuracy: 0.5645\n",
      "Epoch 16/100\n",
      "2000/2000 [==============================] - 2s 990us/step - loss: 1.2874 - accuracy: 0.5630\n",
      "Epoch 17/100\n",
      "2000/2000 [==============================] - 2s 950us/step - loss: 1.2252 - accuracy: 0.5710\n",
      "Epoch 18/100\n",
      "2000/2000 [==============================] - 2s 1ms/step - loss: 1.2199 - accuracy: 0.5845\n",
      "Epoch 19/100\n",
      "2000/2000 [==============================] - 2s 905us/step - loss: 1.2136 - accuracy: 0.5975\n",
      "Epoch 20/100\n",
      "2000/2000 [==============================] - 2s 905us/step - loss: 1.1623 - accuracy: 0.5965\n",
      "Epoch 21/100\n",
      "2000/2000 [==============================] - 2s 1ms/step - loss: 1.1260 - accuracy: 0.6050\n",
      "Epoch 22/100\n",
      "2000/2000 [==============================] - 2s 1ms/step - loss: 1.1027 - accuracy: 0.6175\n",
      "Epoch 23/100\n",
      "2000/2000 [==============================] - 2s 1ms/step - loss: 1.0676 - accuracy: 0.6295\n",
      "Epoch 24/100\n",
      "2000/2000 [==============================] - 2s 986us/step - loss: 1.0240 - accuracy: 0.6475\n",
      "Epoch 25/100\n",
      "2000/2000 [==============================] - 2s 1ms/step - loss: 1.0467 - accuracy: 0.6435\n",
      "Epoch 26/100\n",
      "2000/2000 [==============================] - 2s 957us/step - loss: 1.0388 - accuracy: 0.6475\n",
      "Epoch 27/100\n",
      "2000/2000 [==============================] - 2s 1ms/step - loss: 1.0205 - accuracy: 0.6510\n",
      "Epoch 28/100\n",
      "2000/2000 [==============================] - 2s 1ms/step - loss: 1.0012 - accuracy: 0.6585\n",
      "Epoch 29/100\n",
      "2000/2000 [==============================] - 2s 1ms/step - loss: 0.9623 - accuracy: 0.6670\n",
      "Epoch 30/100\n",
      "2000/2000 [==============================] - 3s 1ms/step - loss: 0.9328 - accuracy: 0.6755\n",
      "Epoch 31/100\n",
      "2000/2000 [==============================] - 3s 1ms/step - loss: 0.9678 - accuracy: 0.6615\n",
      "Epoch 32/100\n",
      "2000/2000 [==============================] - 2s 1ms/step - loss: 0.8481 - accuracy: 0.7045\n",
      "Epoch 33/100\n",
      "2000/2000 [==============================] - 2s 902us/step - loss: 0.8880 - accuracy: 0.6925\n",
      "Epoch 34/100\n",
      "2000/2000 [==============================] - 2s 1ms/step - loss: 0.8772 - accuracy: 0.6990\n",
      "Epoch 35/100\n",
      "2000/2000 [==============================] - 2s 952us/step - loss: 0.8944 - accuracy: 0.6875\n",
      "Epoch 36/100\n",
      "2000/2000 [==============================] - 2s 986us/step - loss: 0.8132 - accuracy: 0.7125\n",
      "Epoch 37/100\n",
      "2000/2000 [==============================] - 2s 979us/step - loss: 0.8366 - accuracy: 0.7015\n",
      "Epoch 38/100\n",
      "2000/2000 [==============================] - 2s 825us/step - loss: 0.8271 - accuracy: 0.7195\n",
      "Epoch 39/100\n",
      "2000/2000 [==============================] - 2s 1ms/step - loss: 0.8066 - accuracy: 0.7245\n",
      "Epoch 40/100\n",
      "2000/2000 [==============================] - 2s 828us/step - loss: 0.8132 - accuracy: 0.7245\n",
      "Epoch 41/100\n",
      "2000/2000 [==============================] - 2s 902us/step - loss: 0.8100 - accuracy: 0.7240\n",
      "Epoch 42/100\n",
      "2000/2000 [==============================] - 2s 1ms/step - loss: 0.7490 - accuracy: 0.7480\n",
      "Epoch 43/100\n",
      "2000/2000 [==============================] - 2s 1ms/step - loss: 0.6730 - accuracy: 0.7705\n",
      "Epoch 44/100\n",
      "2000/2000 [==============================] - 2s 1ms/step - loss: 0.6979 - accuracy: 0.7545\n",
      "Epoch 45/100\n",
      "2000/2000 [==============================] - 2s 906us/step - loss: 0.6955 - accuracy: 0.7695\n",
      "Epoch 46/100\n",
      "2000/2000 [==============================] - 2s 902us/step - loss: 0.6897 - accuracy: 0.7605\n",
      "Epoch 47/100\n",
      "2000/2000 [==============================] - 2s 1ms/step - loss: 0.6854 - accuracy: 0.7555\n",
      "Epoch 48/100\n",
      "2000/2000 [==============================] - 2s 1ms/step - loss: 0.6818 - accuracy: 0.7590\n",
      "Epoch 49/100\n",
      "2000/2000 [==============================] - 2s 1ms/step - loss: 0.6678 - accuracy: 0.7755\n",
      "Epoch 50/100\n",
      "2000/2000 [==============================] - 2s 1ms/step - loss: 0.6404 - accuracy: 0.7815\n",
      "Epoch 51/100\n",
      "2000/2000 [==============================] - 2s 1ms/step - loss: 0.6365 - accuracy: 0.7735\n",
      "Epoch 52/100\n",
      "2000/2000 [==============================] - 2s 1ms/step - loss: 0.6262 - accuracy: 0.7835\n",
      "Epoch 53/100\n",
      "2000/2000 [==============================] - 2s 941us/step - loss: 0.6379 - accuracy: 0.7850\n",
      "Epoch 54/100\n",
      "2000/2000 [==============================] - 2s 1ms/step - loss: 0.6294 - accuracy: 0.7825\n",
      "Epoch 55/100\n",
      "2000/2000 [==============================] - 2s 1ms/step - loss: 0.5886 - accuracy: 0.8065\n",
      "Epoch 56/100\n",
      "2000/2000 [==============================] - 2s 1ms/step - loss: 0.5665 - accuracy: 0.7995\n",
      "Epoch 57/100\n",
      "2000/2000 [==============================] - 2s 1ms/step - loss: 0.5644 - accuracy: 0.8060\n",
      "Epoch 58/100\n",
      "2000/2000 [==============================] - 2s 1ms/step - loss: 0.5541 - accuracy: 0.8080\n",
      "Epoch 59/100\n",
      "2000/2000 [==============================] - 2s 1ms/step - loss: 0.5672 - accuracy: 0.8085\n",
      "Epoch 60/100\n",
      "2000/2000 [==============================] - 2s 837us/step - loss: 0.5300 - accuracy: 0.8060\n",
      "Epoch 61/100\n",
      "2000/2000 [==============================] - 2s 1ms/step - loss: 0.5212 - accuracy: 0.8105\n",
      "Epoch 62/100\n",
      "2000/2000 [==============================] - 2s 1ms/step - loss: 0.5411 - accuracy: 0.8120\n",
      "Epoch 63/100\n",
      "2000/2000 [==============================] - 2s 989us/step - loss: 0.5242 - accuracy: 0.8180\n",
      "Epoch 64/100\n",
      "2000/2000 [==============================] - 2s 1ms/step - loss: 0.4955 - accuracy: 0.8375\n",
      "Epoch 65/100\n",
      "2000/2000 [==============================] - 2s 1ms/step - loss: 0.5001 - accuracy: 0.8335\n",
      "Epoch 66/100\n",
      "2000/2000 [==============================] - 2s 1ms/step - loss: 0.4576 - accuracy: 0.8340\n",
      "Epoch 67/100\n",
      "2000/2000 [==============================] - 2s 950us/step - loss: 0.4601 - accuracy: 0.8505\n",
      "Epoch 68/100\n",
      "2000/2000 [==============================] - 2s 882us/step - loss: 0.4774 - accuracy: 0.8380\n",
      "Epoch 69/100\n",
      "2000/2000 [==============================] - 2s 973us/step - loss: 0.4717 - accuracy: 0.8475\n",
      "Epoch 70/100\n",
      "2000/2000 [==============================] - 2s 868us/step - loss: 0.4693 - accuracy: 0.8445\n",
      "Epoch 71/100\n",
      "2000/2000 [==============================] - 2s 778us/step - loss: 0.4726 - accuracy: 0.8390\n",
      "Epoch 72/100\n",
      "2000/2000 [==============================] - 1s 737us/step - loss: 0.4146 - accuracy: 0.8475\n",
      "Epoch 73/100\n",
      "2000/2000 [==============================] - 2s 759us/step - loss: 0.4651 - accuracy: 0.8490\n",
      "Epoch 74/100\n",
      "2000/2000 [==============================] - 2s 817us/step - loss: 0.4290 - accuracy: 0.8625\n",
      "Epoch 75/100\n",
      "2000/2000 [==============================] - 1s 711us/step - loss: 0.3979 - accuracy: 0.8715\n",
      "Epoch 76/100\n",
      "2000/2000 [==============================] - 2s 925us/step - loss: 0.4131 - accuracy: 0.8580\n",
      "Epoch 77/100\n",
      "2000/2000 [==============================] - 2s 865us/step - loss: 0.3591 - accuracy: 0.8785\n",
      "Epoch 78/100\n",
      "2000/2000 [==============================] - 2s 906us/step - loss: 0.3487 - accuracy: 0.8900\n",
      "Epoch 79/100\n",
      "2000/2000 [==============================] - 2s 818us/step - loss: 0.3973 - accuracy: 0.8660\n",
      "Epoch 80/100\n",
      "2000/2000 [==============================] - 2s 831us/step - loss: 0.4145 - accuracy: 0.8625\n",
      "Epoch 81/100\n",
      "2000/2000 [==============================] - 2s 861us/step - loss: 0.3955 - accuracy: 0.8625\n",
      "Epoch 82/100\n",
      "2000/2000 [==============================] - 2s 840us/step - loss: 0.4186 - accuracy: 0.8595\n",
      "Epoch 83/100\n",
      "2000/2000 [==============================] - 2s 806us/step - loss: 0.3804 - accuracy: 0.8730\n",
      "Epoch 84/100\n",
      "2000/2000 [==============================] - 2s 1ms/step - loss: 0.3654 - accuracy: 0.8825\n",
      "Epoch 85/100\n",
      "2000/2000 [==============================] - 2s 972us/step - loss: 0.3567 - accuracy: 0.8800\n",
      "Epoch 86/100\n",
      "2000/2000 [==============================] - 2s 932us/step - loss: 0.3916 - accuracy: 0.8795\n",
      "Epoch 87/100\n",
      "2000/2000 [==============================] - 2s 1ms/step - loss: 0.3771 - accuracy: 0.8750\n",
      "Epoch 88/100\n",
      "2000/2000 [==============================] - 2s 1ms/step - loss: 0.3285 - accuracy: 0.8840\n",
      "Epoch 89/100\n",
      "2000/2000 [==============================] - 2s 1ms/step - loss: 0.3277 - accuracy: 0.8930\n",
      "Epoch 90/100\n",
      "2000/2000 [==============================] - 2s 990us/step - loss: 0.3099 - accuracy: 0.8980\n",
      "Epoch 91/100\n",
      "2000/2000 [==============================] - 3s 1ms/step - loss: 0.3361 - accuracy: 0.8870\n",
      "Epoch 92/100\n",
      "2000/2000 [==============================] - 2s 1ms/step - loss: 0.3289 - accuracy: 0.8830\n",
      "Epoch 93/100\n",
      "2000/2000 [==============================] - 2s 933us/step - loss: 0.2941 - accuracy: 0.9055\n",
      "Epoch 94/100\n",
      "2000/2000 [==============================] - 2s 944us/step - loss: 0.3401 - accuracy: 0.8960\n",
      "Epoch 95/100\n",
      "2000/2000 [==============================] - 2s 889us/step - loss: 0.3117 - accuracy: 0.9025\n",
      "Epoch 96/100\n",
      "2000/2000 [==============================] - 2s 941us/step - loss: 0.3184 - accuracy: 0.8945\n",
      "Epoch 97/100\n",
      "2000/2000 [==============================] - 2s 842us/step - loss: 0.3205 - accuracy: 0.8955\n",
      "Epoch 98/100\n",
      "2000/2000 [==============================] - 2s 877us/step - loss: 0.2833 - accuracy: 0.9045\n",
      "Epoch 99/100\n",
      "2000/2000 [==============================] - 2s 829us/step - loss: 0.2892 - accuracy: 0.9085\n",
      "Epoch 100/100\n",
      "2000/2000 [==============================] - 2s 807us/step - loss: 0.3087 - accuracy: 0.8955\n",
      "lr=0.0001, train complete\n",
      "training  model takes 205.04509115219116 seconds\n"
     ]
    },
    {
     "data": {
      "image/png": "[encoded data removed]",
      "text/plain": [
       "<Figure size 576x432 with 1 Axes>"
      ]
     },
     "metadata": {
      "needs_background": "light"
     },
     "output_type": "display_data"
    }
   ],
   "source": [
    "start_time = time.time()\n",
    "model.compile(loss='categorical_crossentropy',optimizer = Adam(lr=0.001),metrics=['accuracy'])\n",
    "model_his = model.fit(X,Y,epochs=100)\n",
    "plt.figure(figsize=[8,6])\n",
    "plt.plot(model_his.history['accuracy'],'r',linewidth=1.0)\n",
    "plt.legend(['Training Accuracy'],fontsize=18)\n",
    "plt.xlabel('Epochs ',fontsize=16)\n",
    "plt.ylabel('Accuracy',fontsize=16)\n",
    "plt.title('Accuracy Curves',fontsize=16)\n",
    "print('lr=0.0001, train complete')\n",
    "print(\"training  model takes %s seconds\" % round((time.time() - start_time),3))"
   ]
  },
  {
   "cell_type": "code",
   "execution_count": 56,
   "metadata": {},
   "outputs": [
    {
     "name": "stdout",
     "output_type": "stream",
     "text": [
      "Test accuracy is 54.0 percent\n",
      "testing model takes 0.089 seconds\n"
     ]
    }
   ],
   "source": [
    "t0 = time.time()\n",
    "pred = model.predict(test_data)\n",
    "pred_lst = [] \n",
    "for i in range(len(pred)):\n",
    "    arr = pred[i]\n",
    "    idx = np.argwhere(arr == np.max(arr))\n",
    "    pred_lst.append(idx[0][0])\n",
    "tst_labl = np.argmax(test_label_cat, axis=-1)\n",
    "acc = accuracy_score(pred_lst, tst_labl)\n",
    "print(\"Test accuracy is %s percent\" %(acc*100))\n",
    "print(\"testing model takes %s seconds\" % round((time.time() - t0),3))"
   ]
  },
  {
   "cell_type": "code",
   "execution_count": 47,
   "metadata": {},
   "outputs": [],
   "source": []
  }
 ],
 "metadata": {
  "kernelspec": {
   "display_name": "Python 3",
   "language": "python",
   "name": "python3"
  },
  "language_info": {
   "codemirror_mode": {
    "name": "ipython",
    "version": 3
   },
   "file_extension": ".py",
   "mimetype": "text/x-python",
   "name": "python",
   "nbconvert_exporter": "python",
   "pygments_lexer": "ipython3",
   "version": "3.7.4"
  }
 },
 "nbformat": 4,
 "nbformat_minor": 2
}
