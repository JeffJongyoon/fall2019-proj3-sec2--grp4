{
 "cells": [
  {
   "cell_type": "code",
   "execution_count": 1,
   "metadata": {},
   "outputs": [],
   "source": [
    "import scipy.io"
   ]
  },
  {
   "cell_type": "code",
   "execution_count": 2,
   "metadata": {},
   "outputs": [],
   "source": [
    "import os"
   ]
  },
  {
   "cell_type": "code",
   "execution_count": 3,
   "metadata": {},
   "outputs": [],
   "source": [
    "m = []\n",
    "for f in sorted(os.listdir('/Users/cherry/Desktop/columbia/5234 ads/project3/train_set/points')):\n",
    "    m.append(scipy.io.loadmat(os.path.join('/Users/cherry/Desktop/columbia/5234 ads/project3/train_set/points',f)))"
   ]
  },
  {
   "cell_type": "code",
   "execution_count": null,
   "metadata": {},
   "outputs": [],
   "source": []
  },
  {
   "cell_type": "code",
   "execution_count": 4,
   "metadata": {},
   "outputs": [],
   "source": [
    "mat = [x[[i for i in x.keys() if not i in ['__header__', '__version__', '__globals__']][0]] for x in m]"
   ]
  },
  {
   "cell_type": "code",
   "execution_count": 5,
   "metadata": {},
   "outputs": [],
   "source": [
    "from scipy.spatial.distance import pdist\n",
    "import numpy as np"
   ]
  },
  {
   "cell_type": "code",
   "execution_count": 6,
   "metadata": {},
   "outputs": [],
   "source": [
    "c = np.array([pdist(x) for x in mat])"
   ]
  },
  {
   "cell_type": "code",
   "execution_count": 7,
   "metadata": {},
   "outputs": [
    {
     "name": "stdout",
     "output_type": "stream",
     "text": [
      "[[ 45.97631523  30.00505531  14.22248296 ...  58.18338597 114.20630263\n",
      "   57.32718902]\n",
      " [ 45.45518612  27.30019089  11.17563957 ...  58.59292966 117.13389646\n",
      "   58.60653487]\n",
      " [ 41.94893485  24.32762464  10.7345456  ...  54.4778019  108.87897509\n",
      "   54.49615306]\n",
      " ...\n",
      " [ 29.83375552  16.74873555   8.75949223 ...  43.20481357  88.58787651\n",
      "   45.44142259]\n",
      " [ 30.38799721  17.06279627   9.23137228 ...  54.51938005 101.00107438\n",
      "   47.20306809]\n",
      " [ 38.06192299  17.57104071   6.36502842 ...  48.8077756   98.69303285\n",
      "   50.10144545]]\n"
     ]
    }
   ],
   "source": [
    "print(c)"
   ]
  },
  {
   "cell_type": "code",
   "execution_count": 8,
   "metadata": {},
   "outputs": [],
   "source": [
    "import pandas as pd"
   ]
  },
  {
   "cell_type": "code",
   "execution_count": 9,
   "metadata": {},
   "outputs": [],
   "source": [
    "label = pd.read_csv('/Users/cherry/Desktop/columbia/5234 ads/project3/train_set/label.csv')"
   ]
  },
  {
   "cell_type": "code",
   "execution_count": 10,
   "metadata": {},
   "outputs": [],
   "source": [
    "label = np.array(label.loc[:, 'emotion_idx'])"
   ]
  },
  {
   "cell_type": "code",
   "execution_count": null,
   "metadata": {},
   "outputs": [],
   "source": []
  }
 ],
 "metadata": {
  "kernelspec": {
   "display_name": "Python 3",
   "language": "python",
   "name": "python3"
  },
  "language_info": {
   "codemirror_mode": {
    "name": "ipython",
    "version": 3
   },
   "file_extension": ".py",
   "mimetype": "text/x-python",
   "name": "python",
   "nbconvert_exporter": "python",
   "pygments_lexer": "ipython3",
   "version": "3.7.1"
  }
 },
 "nbformat": 4,
 "nbformat_minor": 2
}
